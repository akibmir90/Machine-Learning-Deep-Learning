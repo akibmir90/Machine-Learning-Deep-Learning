{
 "cells": [
  {
   "cell_type": "markdown",
   "id": "170aa0e8",
   "metadata": {
    "papermill": {
     "duration": 0.013969,
     "end_time": "2022-10-02T09:56:48.902446",
     "exception": false,
     "start_time": "2022-10-02T09:56:48.888477",
     "status": "completed"
    },
    "tags": []
   },
   "source": []
  },
  {
   "cell_type": "markdown",
   "id": "e71f25fc",
   "metadata": {
    "papermill": {
     "duration": 0.017218,
     "end_time": "2022-10-02T09:56:48.932102",
     "exception": false,
     "start_time": "2022-10-02T09:56:48.914884",
     "status": "completed"
    },
    "tags": []
   },
   "source": [
    "# Machine Learning for Prediction of Product Sales"
   ]
  },
  {
   "cell_type": "markdown",
   "id": "99683e1c",
   "metadata": {
    "papermill": {
     "duration": 0.011731,
     "end_time": "2022-10-02T09:56:48.955690",
     "exception": false,
     "start_time": "2022-10-02T09:56:48.943959",
     "status": "completed"
    },
    "tags": []
   },
   "source": [
    "### The task is to forecast the total amount of products sold in every shop for the test set. Note that the list of shops and products slightly changes every month. Creating a robust model that can handle such situations is part of the challenge."
   ]
  },
  {
   "cell_type": "markdown",
   "id": "ab91a697",
   "metadata": {
    "papermill": {
     "duration": 0.011674,
     "end_time": "2022-10-02T09:56:48.979570",
     "exception": false,
     "start_time": "2022-10-02T09:56:48.967896",
     "status": "completed"
    },
    "tags": []
   },
   "source": [
    "### File descriptions\n",
    "sales_train.csv - the training set. Daily historical data from January 2013 to October 2015.\n",
    "\n",
    "test.csv - the test set. You need to forecast the sales for these shops and products for November 2015.\n",
    "\n",
    "sample_submission.csv - a sample submission file in the correct format.\n",
    "\n",
    "items.csv - supplemental information about the items/products.\n",
    "\n",
    "item_categories.csv  - supplemental information about the items categories.\n",
    "\n",
    "shops.csv- supplemental information about the shops."
   ]
  },
  {
   "cell_type": "markdown",
   "id": "eabd090a",
   "metadata": {
    "papermill": {
     "duration": 0.011878,
     "end_time": "2022-10-02T09:56:49.003334",
     "exception": false,
     "start_time": "2022-10-02T09:56:48.991456",
     "status": "completed"
    },
    "tags": []
   },
   "source": [
    "## Import Necessary Libraries"
   ]
  },
  {
   "cell_type": "markdown",
   "id": "d0a53532",
   "metadata": {
    "papermill": {
     "duration": 0.011663,
     "end_time": "2022-10-02T09:56:49.027292",
     "exception": false,
     "start_time": "2022-10-02T09:56:49.015629",
     "status": "completed"
    },
    "tags": []
   },
   "source": []
  },
  {
   "cell_type": "code",
   "execution_count": 1,
   "id": "07a730d0",
   "metadata": {
    "execution": {
     "iopub.execute_input": "2022-10-02T09:56:49.053637Z",
     "iopub.status.busy": "2022-10-02T09:56:49.053115Z",
     "iopub.status.idle": "2022-10-02T09:56:49.900363Z",
     "shell.execute_reply": "2022-10-02T09:56:49.899391Z"
    },
    "papermill": {
     "duration": 0.863857,
     "end_time": "2022-10-02T09:56:49.903104",
     "exception": false,
     "start_time": "2022-10-02T09:56:49.039247",
     "status": "completed"
    },
    "tags": []
   },
   "outputs": [],
   "source": [
    "import pandas as pd\n",
    "import matplotlib.pyplot as plt\n",
    "import numpy as np\n",
    "import seaborn as sns\n",
    "%matplotlib inline"
   ]
  },
  {
   "cell_type": "markdown",
   "id": "65d21e8d",
   "metadata": {
    "papermill": {
     "duration": 0.01178,
     "end_time": "2022-10-02T09:56:49.927199",
     "exception": false,
     "start_time": "2022-10-02T09:56:49.915419",
     "status": "completed"
    },
    "tags": []
   },
   "source": [
    "## Import Datasets"
   ]
  },
  {
   "cell_type": "code",
   "execution_count": 2,
   "id": "16e4b35c",
   "metadata": {
    "execution": {
     "iopub.execute_input": "2022-10-02T09:56:49.952279Z",
     "iopub.status.busy": "2022-10-02T09:56:49.951952Z",
     "iopub.status.idle": "2022-10-02T09:56:52.316052Z",
     "shell.execute_reply": "2022-10-02T09:56:52.315045Z"
    },
    "papermill": {
     "duration": 2.379617,
     "end_time": "2022-10-02T09:56:52.318656",
     "exception": false,
     "start_time": "2022-10-02T09:56:49.939039",
     "status": "completed"
    },
    "tags": []
   },
   "outputs": [],
   "source": [
    "items_cat = pd.read_csv('../input/competitive-data-science-predict-future-sales/item_categories.csv')\n",
    "items = pd.read_csv('../input/competitive-data-science-predict-future-sales/items.csv')\n",
    "shops = pd.read_csv('../input/competitive-data-science-predict-future-sales/shops.csv')\n",
    "test = pd.read_csv('../input/competitive-data-science-predict-future-sales/test.csv')\n",
    "train = pd.read_csv('../input/competitive-data-science-predict-future-sales/sales_train.csv')"
   ]
  },
  {
   "cell_type": "markdown",
   "id": "7efbbb58",
   "metadata": {
    "papermill": {
     "duration": 0.01216,
     "end_time": "2022-10-02T09:56:52.343667",
     "exception": false,
     "start_time": "2022-10-02T09:56:52.331507",
     "status": "completed"
    },
    "tags": []
   },
   "source": [
    "# Exploratory Data Analysis"
   ]
  },
  {
   "cell_type": "code",
   "execution_count": 3,
   "id": "13f6d2f8",
   "metadata": {
    "execution": {
     "iopub.execute_input": "2022-10-02T09:56:52.370871Z",
     "iopub.status.busy": "2022-10-02T09:56:52.370048Z",
     "iopub.status.idle": "2022-10-02T09:56:52.386589Z",
     "shell.execute_reply": "2022-10-02T09:56:52.385203Z"
    },
    "papermill": {
     "duration": 0.033201,
     "end_time": "2022-10-02T09:56:52.389710",
     "exception": false,
     "start_time": "2022-10-02T09:56:52.356509",
     "status": "completed"
    },
    "tags": []
   },
   "outputs": [
    {
     "data": {
      "text/html": [
       "<div>\n",
       "<style scoped>\n",
       "    .dataframe tbody tr th:only-of-type {\n",
       "        vertical-align: middle;\n",
       "    }\n",
       "\n",
       "    .dataframe tbody tr th {\n",
       "        vertical-align: top;\n",
       "    }\n",
       "\n",
       "    .dataframe thead th {\n",
       "        text-align: right;\n",
       "    }\n",
       "</style>\n",
       "<table border=\"1\" class=\"dataframe\">\n",
       "  <thead>\n",
       "    <tr style=\"text-align: right;\">\n",
       "      <th></th>\n",
       "      <th>item_category_name</th>\n",
       "      <th>item_category_id</th>\n",
       "    </tr>\n",
       "  </thead>\n",
       "  <tbody>\n",
       "    <tr>\n",
       "      <th>0</th>\n",
       "      <td>PC - Гарнитуры/Наушники</td>\n",
       "      <td>0</td>\n",
       "    </tr>\n",
       "    <tr>\n",
       "      <th>1</th>\n",
       "      <td>Аксессуары - PS2</td>\n",
       "      <td>1</td>\n",
       "    </tr>\n",
       "    <tr>\n",
       "      <th>2</th>\n",
       "      <td>Аксессуары - PS3</td>\n",
       "      <td>2</td>\n",
       "    </tr>\n",
       "    <tr>\n",
       "      <th>3</th>\n",
       "      <td>Аксессуары - PS4</td>\n",
       "      <td>3</td>\n",
       "    </tr>\n",
       "    <tr>\n",
       "      <th>4</th>\n",
       "      <td>Аксессуары - PSP</td>\n",
       "      <td>4</td>\n",
       "    </tr>\n",
       "  </tbody>\n",
       "</table>\n",
       "</div>"
      ],
      "text/plain": [
       "        item_category_name  item_category_id\n",
       "0  PC - Гарнитуры/Наушники                 0\n",
       "1         Аксессуары - PS2                 1\n",
       "2         Аксессуары - PS3                 2\n",
       "3         Аксессуары - PS4                 3\n",
       "4         Аксессуары - PSP                 4"
      ]
     },
     "execution_count": 3,
     "metadata": {},
     "output_type": "execute_result"
    }
   ],
   "source": [
    "items_cat.head()"
   ]
  },
  {
   "cell_type": "code",
   "execution_count": 4,
   "id": "0b073d54",
   "metadata": {
    "execution": {
     "iopub.execute_input": "2022-10-02T09:56:52.415530Z",
     "iopub.status.busy": "2022-10-02T09:56:52.415228Z",
     "iopub.status.idle": "2022-10-02T09:56:52.436665Z",
     "shell.execute_reply": "2022-10-02T09:56:52.435150Z"
    },
    "papermill": {
     "duration": 0.037012,
     "end_time": "2022-10-02T09:56:52.438927",
     "exception": false,
     "start_time": "2022-10-02T09:56:52.401915",
     "status": "completed"
    },
    "tags": []
   },
   "outputs": [
    {
     "data": {
      "text/html": [
       "<div>\n",
       "<style scoped>\n",
       "    .dataframe tbody tr th:only-of-type {\n",
       "        vertical-align: middle;\n",
       "    }\n",
       "\n",
       "    .dataframe tbody tr th {\n",
       "        vertical-align: top;\n",
       "    }\n",
       "\n",
       "    .dataframe thead th {\n",
       "        text-align: right;\n",
       "    }\n",
       "</style>\n",
       "<table border=\"1\" class=\"dataframe\">\n",
       "  <thead>\n",
       "    <tr style=\"text-align: right;\">\n",
       "      <th></th>\n",
       "      <th>item_category_id</th>\n",
       "    </tr>\n",
       "  </thead>\n",
       "  <tbody>\n",
       "    <tr>\n",
       "      <th>count</th>\n",
       "      <td>84.000000</td>\n",
       "    </tr>\n",
       "    <tr>\n",
       "      <th>mean</th>\n",
       "      <td>41.500000</td>\n",
       "    </tr>\n",
       "    <tr>\n",
       "      <th>std</th>\n",
       "      <td>24.392622</td>\n",
       "    </tr>\n",
       "    <tr>\n",
       "      <th>min</th>\n",
       "      <td>0.000000</td>\n",
       "    </tr>\n",
       "    <tr>\n",
       "      <th>25%</th>\n",
       "      <td>20.750000</td>\n",
       "    </tr>\n",
       "    <tr>\n",
       "      <th>50%</th>\n",
       "      <td>41.500000</td>\n",
       "    </tr>\n",
       "    <tr>\n",
       "      <th>75%</th>\n",
       "      <td>62.250000</td>\n",
       "    </tr>\n",
       "    <tr>\n",
       "      <th>max</th>\n",
       "      <td>83.000000</td>\n",
       "    </tr>\n",
       "  </tbody>\n",
       "</table>\n",
       "</div>"
      ],
      "text/plain": [
       "       item_category_id\n",
       "count         84.000000\n",
       "mean          41.500000\n",
       "std           24.392622\n",
       "min            0.000000\n",
       "25%           20.750000\n",
       "50%           41.500000\n",
       "75%           62.250000\n",
       "max           83.000000"
      ]
     },
     "execution_count": 4,
     "metadata": {},
     "output_type": "execute_result"
    }
   ],
   "source": [
    "items_cat.describe()"
   ]
  },
  {
   "cell_type": "code",
   "execution_count": 5,
   "id": "a0494abd",
   "metadata": {
    "execution": {
     "iopub.execute_input": "2022-10-02T09:56:52.465589Z",
     "iopub.status.busy": "2022-10-02T09:56:52.465276Z",
     "iopub.status.idle": "2022-10-02T09:56:52.474382Z",
     "shell.execute_reply": "2022-10-02T09:56:52.473463Z"
    },
    "papermill": {
     "duration": 0.025665,
     "end_time": "2022-10-02T09:56:52.477061",
     "exception": false,
     "start_time": "2022-10-02T09:56:52.451396",
     "status": "completed"
    },
    "tags": []
   },
   "outputs": [
    {
     "data": {
      "text/html": [
       "<div>\n",
       "<style scoped>\n",
       "    .dataframe tbody tr th:only-of-type {\n",
       "        vertical-align: middle;\n",
       "    }\n",
       "\n",
       "    .dataframe tbody tr th {\n",
       "        vertical-align: top;\n",
       "    }\n",
       "\n",
       "    .dataframe thead th {\n",
       "        text-align: right;\n",
       "    }\n",
       "</style>\n",
       "<table border=\"1\" class=\"dataframe\">\n",
       "  <thead>\n",
       "    <tr style=\"text-align: right;\">\n",
       "      <th></th>\n",
       "      <th>item_name</th>\n",
       "      <th>item_id</th>\n",
       "      <th>item_category_id</th>\n",
       "    </tr>\n",
       "  </thead>\n",
       "  <tbody>\n",
       "    <tr>\n",
       "      <th>0</th>\n",
       "      <td>! ВО ВЛАСТИ НАВАЖДЕНИЯ (ПЛАСТ.)         D</td>\n",
       "      <td>0</td>\n",
       "      <td>40</td>\n",
       "    </tr>\n",
       "    <tr>\n",
       "      <th>1</th>\n",
       "      <td>!ABBYY FineReader 12 Professional Edition Full...</td>\n",
       "      <td>1</td>\n",
       "      <td>76</td>\n",
       "    </tr>\n",
       "    <tr>\n",
       "      <th>2</th>\n",
       "      <td>***В ЛУЧАХ СЛАВЫ   (UNV)                    D</td>\n",
       "      <td>2</td>\n",
       "      <td>40</td>\n",
       "    </tr>\n",
       "    <tr>\n",
       "      <th>3</th>\n",
       "      <td>***ГОЛУБАЯ ВОЛНА  (Univ)                      D</td>\n",
       "      <td>3</td>\n",
       "      <td>40</td>\n",
       "    </tr>\n",
       "    <tr>\n",
       "      <th>4</th>\n",
       "      <td>***КОРОБКА (СТЕКЛО)                       D</td>\n",
       "      <td>4</td>\n",
       "      <td>40</td>\n",
       "    </tr>\n",
       "  </tbody>\n",
       "</table>\n",
       "</div>"
      ],
      "text/plain": [
       "                                           item_name  item_id  \\\n",
       "0          ! ВО ВЛАСТИ НАВАЖДЕНИЯ (ПЛАСТ.)         D        0   \n",
       "1  !ABBYY FineReader 12 Professional Edition Full...        1   \n",
       "2      ***В ЛУЧАХ СЛАВЫ   (UNV)                    D        2   \n",
       "3    ***ГОЛУБАЯ ВОЛНА  (Univ)                      D        3   \n",
       "4        ***КОРОБКА (СТЕКЛО)                       D        4   \n",
       "\n",
       "   item_category_id  \n",
       "0                40  \n",
       "1                76  \n",
       "2                40  \n",
       "3                40  \n",
       "4                40  "
      ]
     },
     "execution_count": 5,
     "metadata": {},
     "output_type": "execute_result"
    }
   ],
   "source": [
    "items.head()"
   ]
  },
  {
   "cell_type": "code",
   "execution_count": 6,
   "id": "163e85a5",
   "metadata": {
    "execution": {
     "iopub.execute_input": "2022-10-02T09:56:52.504545Z",
     "iopub.status.busy": "2022-10-02T09:56:52.502867Z",
     "iopub.status.idle": "2022-10-02T09:56:52.520950Z",
     "shell.execute_reply": "2022-10-02T09:56:52.519865Z"
    },
    "papermill": {
     "duration": 0.034029,
     "end_time": "2022-10-02T09:56:52.523365",
     "exception": false,
     "start_time": "2022-10-02T09:56:52.489336",
     "status": "completed"
    },
    "tags": []
   },
   "outputs": [
    {
     "data": {
      "text/html": [
       "<div>\n",
       "<style scoped>\n",
       "    .dataframe tbody tr th:only-of-type {\n",
       "        vertical-align: middle;\n",
       "    }\n",
       "\n",
       "    .dataframe tbody tr th {\n",
       "        vertical-align: top;\n",
       "    }\n",
       "\n",
       "    .dataframe thead th {\n",
       "        text-align: right;\n",
       "    }\n",
       "</style>\n",
       "<table border=\"1\" class=\"dataframe\">\n",
       "  <thead>\n",
       "    <tr style=\"text-align: right;\">\n",
       "      <th></th>\n",
       "      <th>item_id</th>\n",
       "      <th>item_category_id</th>\n",
       "    </tr>\n",
       "  </thead>\n",
       "  <tbody>\n",
       "    <tr>\n",
       "      <th>count</th>\n",
       "      <td>22170.00000</td>\n",
       "      <td>22170.000000</td>\n",
       "    </tr>\n",
       "    <tr>\n",
       "      <th>mean</th>\n",
       "      <td>11084.50000</td>\n",
       "      <td>46.290753</td>\n",
       "    </tr>\n",
       "    <tr>\n",
       "      <th>std</th>\n",
       "      <td>6400.07207</td>\n",
       "      <td>15.941486</td>\n",
       "    </tr>\n",
       "    <tr>\n",
       "      <th>min</th>\n",
       "      <td>0.00000</td>\n",
       "      <td>0.000000</td>\n",
       "    </tr>\n",
       "    <tr>\n",
       "      <th>25%</th>\n",
       "      <td>5542.25000</td>\n",
       "      <td>37.000000</td>\n",
       "    </tr>\n",
       "    <tr>\n",
       "      <th>50%</th>\n",
       "      <td>11084.50000</td>\n",
       "      <td>40.000000</td>\n",
       "    </tr>\n",
       "    <tr>\n",
       "      <th>75%</th>\n",
       "      <td>16626.75000</td>\n",
       "      <td>58.000000</td>\n",
       "    </tr>\n",
       "    <tr>\n",
       "      <th>max</th>\n",
       "      <td>22169.00000</td>\n",
       "      <td>83.000000</td>\n",
       "    </tr>\n",
       "  </tbody>\n",
       "</table>\n",
       "</div>"
      ],
      "text/plain": [
       "           item_id  item_category_id\n",
       "count  22170.00000      22170.000000\n",
       "mean   11084.50000         46.290753\n",
       "std     6400.07207         15.941486\n",
       "min        0.00000          0.000000\n",
       "25%     5542.25000         37.000000\n",
       "50%    11084.50000         40.000000\n",
       "75%    16626.75000         58.000000\n",
       "max    22169.00000         83.000000"
      ]
     },
     "execution_count": 6,
     "metadata": {},
     "output_type": "execute_result"
    }
   ],
   "source": [
    "items.describe()"
   ]
  },
  {
   "cell_type": "code",
   "execution_count": 7,
   "id": "0bab3605",
   "metadata": {
    "execution": {
     "iopub.execute_input": "2022-10-02T09:56:52.551218Z",
     "iopub.status.busy": "2022-10-02T09:56:52.550541Z",
     "iopub.status.idle": "2022-10-02T09:56:52.560673Z",
     "shell.execute_reply": "2022-10-02T09:56:52.559822Z"
    },
    "papermill": {
     "duration": 0.026286,
     "end_time": "2022-10-02T09:56:52.562754",
     "exception": false,
     "start_time": "2022-10-02T09:56:52.536468",
     "status": "completed"
    },
    "tags": []
   },
   "outputs": [
    {
     "data": {
      "text/plain": [
       "40    5035\n",
       "55    2365\n",
       "37    1780\n",
       "31    1125\n",
       "58     790\n",
       "      ... \n",
       "1        2\n",
       "50       2\n",
       "10       1\n",
       "51       1\n",
       "79       1\n",
       "Name: item_category_id, Length: 84, dtype: int64"
      ]
     },
     "execution_count": 7,
     "metadata": {},
     "output_type": "execute_result"
    }
   ],
   "source": [
    "items['item_category_id'].value_counts()"
   ]
  },
  {
   "cell_type": "markdown",
   "id": "86fe13ec",
   "metadata": {
    "papermill": {
     "duration": 0.012359,
     "end_time": "2022-10-02T09:56:52.588229",
     "exception": false,
     "start_time": "2022-10-02T09:56:52.575870",
     "status": "completed"
    },
    "tags": []
   },
   "source": [
    "### Maximum items sold belong to item category 40."
   ]
  },
  {
   "cell_type": "code",
   "execution_count": 8,
   "id": "3755424e",
   "metadata": {
    "execution": {
     "iopub.execute_input": "2022-10-02T09:56:52.615491Z",
     "iopub.status.busy": "2022-10-02T09:56:52.615151Z",
     "iopub.status.idle": "2022-10-02T09:56:53.879321Z",
     "shell.execute_reply": "2022-10-02T09:56:53.878405Z"
    },
    "papermill": {
     "duration": 1.282677,
     "end_time": "2022-10-02T09:56:53.883574",
     "exception": false,
     "start_time": "2022-10-02T09:56:52.600897",
     "status": "completed"
    },
    "tags": []
   },
   "outputs": [
    {
     "name": "stderr",
     "output_type": "stream",
     "text": [
      "/opt/conda/lib/python3.7/site-packages/seaborn/_decorators.py:43: FutureWarning: Pass the following variable as a keyword arg: x. From version 0.12, the only valid positional argument will be `data`, and passing other arguments without an explicit keyword will result in an error or misinterpretation.\n",
      "  FutureWarning\n"
     ]
    },
    {
     "data": {
      "text/plain": [
       "<AxesSubplot:xlabel='item_category_id', ylabel='count'>"
      ]
     },
     "execution_count": 8,
     "metadata": {},
     "output_type": "execute_result"
    },
    {
     "data": {
      "image/png": "[encoded data removed]",
      "text/plain": [
       "<Figure size 864x576 with 1 Axes>"
      ]
     },
     "metadata": {
      "needs_background": "light"
     },
     "output_type": "display_data"
    }
   ],
   "source": [
    "plt.figure(figsize = (12,8))\n",
    "sns.countplot(items['item_category_id'])"
   ]
  },
  {
   "cell_type": "code",
   "execution_count": 9,
   "id": "08819801",
   "metadata": {
    "execution": {
     "iopub.execute_input": "2022-10-02T09:56:53.912710Z",
     "iopub.status.busy": "2022-10-02T09:56:53.912367Z",
     "iopub.status.idle": "2022-10-02T09:56:53.922450Z",
     "shell.execute_reply": "2022-10-02T09:56:53.921414Z"
    },
    "papermill": {
     "duration": 0.02745,
     "end_time": "2022-10-02T09:56:53.925347",
     "exception": false,
     "start_time": "2022-10-02T09:56:53.897897",
     "status": "completed"
    },
    "tags": []
   },
   "outputs": [
    {
     "data": {
      "text/html": [
       "<div>\n",
       "<style scoped>\n",
       "    .dataframe tbody tr th:only-of-type {\n",
       "        vertical-align: middle;\n",
       "    }\n",
       "\n",
       "    .dataframe tbody tr th {\n",
       "        vertical-align: top;\n",
       "    }\n",
       "\n",
       "    .dataframe thead th {\n",
       "        text-align: right;\n",
       "    }\n",
       "</style>\n",
       "<table border=\"1\" class=\"dataframe\">\n",
       "  <thead>\n",
       "    <tr style=\"text-align: right;\">\n",
       "      <th></th>\n",
       "      <th>shop_name</th>\n",
       "      <th>shop_id</th>\n",
       "    </tr>\n",
       "  </thead>\n",
       "  <tbody>\n",
       "    <tr>\n",
       "      <th>0</th>\n",
       "      <td>!Якутск Орджоникидзе, 56 фран</td>\n",
       "      <td>0</td>\n",
       "    </tr>\n",
       "    <tr>\n",
       "      <th>1</th>\n",
       "      <td>!Якутск ТЦ \"Центральный\" фран</td>\n",
       "      <td>1</td>\n",
       "    </tr>\n",
       "    <tr>\n",
       "      <th>2</th>\n",
       "      <td>Адыгея ТЦ \"Мега\"</td>\n",
       "      <td>2</td>\n",
       "    </tr>\n",
       "    <tr>\n",
       "      <th>3</th>\n",
       "      <td>Балашиха ТРК \"Октябрь-Киномир\"</td>\n",
       "      <td>3</td>\n",
       "    </tr>\n",
       "    <tr>\n",
       "      <th>4</th>\n",
       "      <td>Волжский ТЦ \"Волга Молл\"</td>\n",
       "      <td>4</td>\n",
       "    </tr>\n",
       "  </tbody>\n",
       "</table>\n",
       "</div>"
      ],
      "text/plain": [
       "                        shop_name  shop_id\n",
       "0   !Якутск Орджоникидзе, 56 фран        0\n",
       "1   !Якутск ТЦ \"Центральный\" фран        1\n",
       "2                Адыгея ТЦ \"Мега\"        2\n",
       "3  Балашиха ТРК \"Октябрь-Киномир\"        3\n",
       "4        Волжский ТЦ \"Волга Молл\"        4"
      ]
     },
     "execution_count": 9,
     "metadata": {},
     "output_type": "execute_result"
    }
   ],
   "source": [
    "shops.head()"
   ]
  },
  {
   "cell_type": "code",
   "execution_count": 10,
   "id": "d7ed0c69",
   "metadata": {
    "execution": {
     "iopub.execute_input": "2022-10-02T09:56:53.953118Z",
     "iopub.status.busy": "2022-10-02T09:56:53.952826Z",
     "iopub.status.idle": "2022-10-02T09:56:53.966732Z",
     "shell.execute_reply": "2022-10-02T09:56:53.965823Z"
    },
    "papermill": {
     "duration": 0.030149,
     "end_time": "2022-10-02T09:56:53.968865",
     "exception": false,
     "start_time": "2022-10-02T09:56:53.938716",
     "status": "completed"
    },
    "tags": []
   },
   "outputs": [
    {
     "data": {
      "text/html": [
       "<div>\n",
       "<style scoped>\n",
       "    .dataframe tbody tr th:only-of-type {\n",
       "        vertical-align: middle;\n",
       "    }\n",
       "\n",
       "    .dataframe tbody tr th {\n",
       "        vertical-align: top;\n",
       "    }\n",
       "\n",
       "    .dataframe thead th {\n",
       "        text-align: right;\n",
       "    }\n",
       "</style>\n",
       "<table border=\"1\" class=\"dataframe\">\n",
       "  <thead>\n",
       "    <tr style=\"text-align: right;\">\n",
       "      <th></th>\n",
       "      <th>shop_id</th>\n",
       "    </tr>\n",
       "  </thead>\n",
       "  <tbody>\n",
       "    <tr>\n",
       "      <th>count</th>\n",
       "      <td>60.000000</td>\n",
       "    </tr>\n",
       "    <tr>\n",
       "      <th>mean</th>\n",
       "      <td>29.500000</td>\n",
       "    </tr>\n",
       "    <tr>\n",
       "      <th>std</th>\n",
       "      <td>17.464249</td>\n",
       "    </tr>\n",
       "    <tr>\n",
       "      <th>min</th>\n",
       "      <td>0.000000</td>\n",
       "    </tr>\n",
       "    <tr>\n",
       "      <th>25%</th>\n",
       "      <td>14.750000</td>\n",
       "    </tr>\n",
       "    <tr>\n",
       "      <th>50%</th>\n",
       "      <td>29.500000</td>\n",
       "    </tr>\n",
       "    <tr>\n",
       "      <th>75%</th>\n",
       "      <td>44.250000</td>\n",
       "    </tr>\n",
       "    <tr>\n",
       "      <th>max</th>\n",
       "      <td>59.000000</td>\n",
       "    </tr>\n",
       "  </tbody>\n",
       "</table>\n",
       "</div>"
      ],
      "text/plain": [
       "         shop_id\n",
       "count  60.000000\n",
       "mean   29.500000\n",
       "std    17.464249\n",
       "min     0.000000\n",
       "25%    14.750000\n",
       "50%    29.500000\n",
       "75%    44.250000\n",
       "max    59.000000"
      ]
     },
     "execution_count": 10,
     "metadata": {},
     "output_type": "execute_result"
    }
   ],
   "source": [
    "shops.describe()"
   ]
  },
  {
   "cell_type": "code",
   "execution_count": 11,
   "id": "94cd966c",
   "metadata": {
    "execution": {
     "iopub.execute_input": "2022-10-02T09:56:53.996922Z",
     "iopub.status.busy": "2022-10-02T09:56:53.996583Z",
     "iopub.status.idle": "2022-10-02T09:56:54.008652Z",
     "shell.execute_reply": "2022-10-02T09:56:54.007696Z"
    },
    "papermill": {
     "duration": 0.028312,
     "end_time": "2022-10-02T09:56:54.010649",
     "exception": false,
     "start_time": "2022-10-02T09:56:53.982337",
     "status": "completed"
    },
    "tags": []
   },
   "outputs": [
    {
     "data": {
      "text/html": [
       "<div>\n",
       "<style scoped>\n",
       "    .dataframe tbody tr th:only-of-type {\n",
       "        vertical-align: middle;\n",
       "    }\n",
       "\n",
       "    .dataframe tbody tr th {\n",
       "        vertical-align: top;\n",
       "    }\n",
       "\n",
       "    .dataframe thead th {\n",
       "        text-align: right;\n",
       "    }\n",
       "</style>\n",
       "<table border=\"1\" class=\"dataframe\">\n",
       "  <thead>\n",
       "    <tr style=\"text-align: right;\">\n",
       "      <th></th>\n",
       "      <th>date</th>\n",
       "      <th>date_block_num</th>\n",
       "      <th>shop_id</th>\n",
       "      <th>item_id</th>\n",
       "      <th>item_price</th>\n",
       "      <th>item_cnt_day</th>\n",
       "    </tr>\n",
       "  </thead>\n",
       "  <tbody>\n",
       "    <tr>\n",
       "      <th>0</th>\n",
       "      <td>02.01.2013</td>\n",
       "      <td>0</td>\n",
       "      <td>59</td>\n",
       "      <td>22154</td>\n",
       "      <td>999.00</td>\n",
       "      <td>1.0</td>\n",
       "    </tr>\n",
       "    <tr>\n",
       "      <th>1</th>\n",
       "      <td>03.01.2013</td>\n",
       "      <td>0</td>\n",
       "      <td>25</td>\n",
       "      <td>2552</td>\n",
       "      <td>899.00</td>\n",
       "      <td>1.0</td>\n",
       "    </tr>\n",
       "    <tr>\n",
       "      <th>2</th>\n",
       "      <td>05.01.2013</td>\n",
       "      <td>0</td>\n",
       "      <td>25</td>\n",
       "      <td>2552</td>\n",
       "      <td>899.00</td>\n",
       "      <td>-1.0</td>\n",
       "    </tr>\n",
       "    <tr>\n",
       "      <th>3</th>\n",
       "      <td>06.01.2013</td>\n",
       "      <td>0</td>\n",
       "      <td>25</td>\n",
       "      <td>2554</td>\n",
       "      <td>1709.05</td>\n",
       "      <td>1.0</td>\n",
       "    </tr>\n",
       "    <tr>\n",
       "      <th>4</th>\n",
       "      <td>15.01.2013</td>\n",
       "      <td>0</td>\n",
       "      <td>25</td>\n",
       "      <td>2555</td>\n",
       "      <td>1099.00</td>\n",
       "      <td>1.0</td>\n",
       "    </tr>\n",
       "  </tbody>\n",
       "</table>\n",
       "</div>"
      ],
      "text/plain": [
       "         date  date_block_num  shop_id  item_id  item_price  item_cnt_day\n",
       "0  02.01.2013               0       59    22154      999.00           1.0\n",
       "1  03.01.2013               0       25     2552      899.00           1.0\n",
       "2  05.01.2013               0       25     2552      899.00          -1.0\n",
       "3  06.01.2013               0       25     2554     1709.05           1.0\n",
       "4  15.01.2013               0       25     2555     1099.00           1.0"
      ]
     },
     "execution_count": 11,
     "metadata": {},
     "output_type": "execute_result"
    }
   ],
   "source": [
    "train.head()"
   ]
  },
  {
   "cell_type": "code",
   "execution_count": 12,
   "id": "3a81fa13",
   "metadata": {
    "execution": {
     "iopub.execute_input": "2022-10-02T09:56:54.041744Z",
     "iopub.status.busy": "2022-10-02T09:56:54.041418Z",
     "iopub.status.idle": "2022-10-02T09:56:54.395219Z",
     "shell.execute_reply": "2022-10-02T09:56:54.394212Z"
    },
    "papermill": {
     "duration": 0.371992,
     "end_time": "2022-10-02T09:56:54.397519",
     "exception": false,
     "start_time": "2022-10-02T09:56:54.025527",
     "status": "completed"
    },
    "tags": []
   },
   "outputs": [],
   "source": [
    "train['date'] = pd.to_datetime(train['date'])"
   ]
  },
  {
   "cell_type": "code",
   "execution_count": 13,
   "id": "903c4ae9",
   "metadata": {
    "execution": {
     "iopub.execute_input": "2022-10-02T09:56:54.426723Z",
     "iopub.status.busy": "2022-10-02T09:56:54.426409Z",
     "iopub.status.idle": "2022-10-02T09:56:54.944818Z",
     "shell.execute_reply": "2022-10-02T09:56:54.943844Z"
    },
    "papermill": {
     "duration": 0.535399,
     "end_time": "2022-10-02T09:56:54.946949",
     "exception": false,
     "start_time": "2022-10-02T09:56:54.411550",
     "status": "completed"
    },
    "tags": []
   },
   "outputs": [
    {
     "data": {
      "text/html": [
       "<div>\n",
       "<style scoped>\n",
       "    .dataframe tbody tr th:only-of-type {\n",
       "        vertical-align: middle;\n",
       "    }\n",
       "\n",
       "    .dataframe tbody tr th {\n",
       "        vertical-align: top;\n",
       "    }\n",
       "\n",
       "    .dataframe thead th {\n",
       "        text-align: right;\n",
       "    }\n",
       "</style>\n",
       "<table border=\"1\" class=\"dataframe\">\n",
       "  <thead>\n",
       "    <tr style=\"text-align: right;\">\n",
       "      <th></th>\n",
       "      <th>date_block_num</th>\n",
       "      <th>shop_id</th>\n",
       "      <th>item_id</th>\n",
       "      <th>item_price</th>\n",
       "      <th>item_cnt_day</th>\n",
       "    </tr>\n",
       "  </thead>\n",
       "  <tbody>\n",
       "    <tr>\n",
       "      <th>count</th>\n",
       "      <td>2.935849e+06</td>\n",
       "      <td>2.935849e+06</td>\n",
       "      <td>2.935849e+06</td>\n",
       "      <td>2.935849e+06</td>\n",
       "      <td>2.935849e+06</td>\n",
       "    </tr>\n",
       "    <tr>\n",
       "      <th>mean</th>\n",
       "      <td>1.456991e+01</td>\n",
       "      <td>3.300173e+01</td>\n",
       "      <td>1.019723e+04</td>\n",
       "      <td>8.908532e+02</td>\n",
       "      <td>1.242641e+00</td>\n",
       "    </tr>\n",
       "    <tr>\n",
       "      <th>std</th>\n",
       "      <td>9.422988e+00</td>\n",
       "      <td>1.622697e+01</td>\n",
       "      <td>6.324297e+03</td>\n",
       "      <td>1.729800e+03</td>\n",
       "      <td>2.618834e+00</td>\n",
       "    </tr>\n",
       "    <tr>\n",
       "      <th>min</th>\n",
       "      <td>0.000000e+00</td>\n",
       "      <td>0.000000e+00</td>\n",
       "      <td>0.000000e+00</td>\n",
       "      <td>-1.000000e+00</td>\n",
       "      <td>-2.200000e+01</td>\n",
       "    </tr>\n",
       "    <tr>\n",
       "      <th>25%</th>\n",
       "      <td>7.000000e+00</td>\n",
       "      <td>2.200000e+01</td>\n",
       "      <td>4.476000e+03</td>\n",
       "      <td>2.490000e+02</td>\n",
       "      <td>1.000000e+00</td>\n",
       "    </tr>\n",
       "    <tr>\n",
       "      <th>50%</th>\n",
       "      <td>1.400000e+01</td>\n",
       "      <td>3.100000e+01</td>\n",
       "      <td>9.343000e+03</td>\n",
       "      <td>3.990000e+02</td>\n",
       "      <td>1.000000e+00</td>\n",
       "    </tr>\n",
       "    <tr>\n",
       "      <th>75%</th>\n",
       "      <td>2.300000e+01</td>\n",
       "      <td>4.700000e+01</td>\n",
       "      <td>1.568400e+04</td>\n",
       "      <td>9.990000e+02</td>\n",
       "      <td>1.000000e+00</td>\n",
       "    </tr>\n",
       "    <tr>\n",
       "      <th>max</th>\n",
       "      <td>3.300000e+01</td>\n",
       "      <td>5.900000e+01</td>\n",
       "      <td>2.216900e+04</td>\n",
       "      <td>3.079800e+05</td>\n",
       "      <td>2.169000e+03</td>\n",
       "    </tr>\n",
       "  </tbody>\n",
       "</table>\n",
       "</div>"
      ],
      "text/plain": [
       "       date_block_num       shop_id       item_id    item_price  item_cnt_day\n",
       "count    2.935849e+06  2.935849e+06  2.935849e+06  2.935849e+06  2.935849e+06\n",
       "mean     1.456991e+01  3.300173e+01  1.019723e+04  8.908532e+02  1.242641e+00\n",
       "std      9.422988e+00  1.622697e+01  6.324297e+03  1.729800e+03  2.618834e+00\n",
       "min      0.000000e+00  0.000000e+00  0.000000e+00 -1.000000e+00 -2.200000e+01\n",
       "25%      7.000000e+00  2.200000e+01  4.476000e+03  2.490000e+02  1.000000e+00\n",
       "50%      1.400000e+01  3.100000e+01  9.343000e+03  3.990000e+02  1.000000e+00\n",
       "75%      2.300000e+01  4.700000e+01  1.568400e+04  9.990000e+02  1.000000e+00\n",
       "max      3.300000e+01  5.900000e+01  2.216900e+04  3.079800e+05  2.169000e+03"
      ]
     },
     "execution_count": 13,
     "metadata": {},
     "output_type": "execute_result"
    }
   ],
   "source": [
    "train.describe()"
   ]
  },
  {
   "cell_type": "code",
   "execution_count": 14,
   "id": "64a2e9ad",
   "metadata": {
    "execution": {
     "iopub.execute_input": "2022-10-02T09:56:54.978132Z",
     "iopub.status.busy": "2022-10-02T09:56:54.976390Z",
     "iopub.status.idle": "2022-10-02T09:56:55.253447Z",
     "shell.execute_reply": "2022-10-02T09:56:55.252228Z"
    },
    "papermill": {
     "duration": 0.294984,
     "end_time": "2022-10-02T09:56:55.256142",
     "exception": false,
     "start_time": "2022-10-02T09:56:54.961158",
     "status": "completed"
    },
    "tags": []
   },
   "outputs": [
    {
     "data": {
      "text/html": [
       "<div>\n",
       "<style scoped>\n",
       "    .dataframe tbody tr th:only-of-type {\n",
       "        vertical-align: middle;\n",
       "    }\n",
       "\n",
       "    .dataframe tbody tr th {\n",
       "        vertical-align: top;\n",
       "    }\n",
       "\n",
       "    .dataframe thead th {\n",
       "        text-align: right;\n",
       "    }\n",
       "</style>\n",
       "<table border=\"1\" class=\"dataframe\">\n",
       "  <thead>\n",
       "    <tr style=\"text-align: right;\">\n",
       "      <th></th>\n",
       "      <th>date_block_num</th>\n",
       "      <th>shop_id</th>\n",
       "      <th>item_id</th>\n",
       "      <th>item_price</th>\n",
       "      <th>item_cnt_day</th>\n",
       "    </tr>\n",
       "  </thead>\n",
       "  <tbody>\n",
       "    <tr>\n",
       "      <th>date_block_num</th>\n",
       "      <td>1.000000</td>\n",
       "      <td>0.019273</td>\n",
       "      <td>0.009356</td>\n",
       "      <td>0.095010</td>\n",
       "      <td>0.009402</td>\n",
       "    </tr>\n",
       "    <tr>\n",
       "      <th>shop_id</th>\n",
       "      <td>0.019273</td>\n",
       "      <td>1.000000</td>\n",
       "      <td>0.029396</td>\n",
       "      <td>-0.024034</td>\n",
       "      <td>-0.005230</td>\n",
       "    </tr>\n",
       "    <tr>\n",
       "      <th>item_id</th>\n",
       "      <td>0.009356</td>\n",
       "      <td>0.029396</td>\n",
       "      <td>1.000000</td>\n",
       "      <td>-0.134104</td>\n",
       "      <td>0.016650</td>\n",
       "    </tr>\n",
       "    <tr>\n",
       "      <th>item_price</th>\n",
       "      <td>0.095010</td>\n",
       "      <td>-0.024034</td>\n",
       "      <td>-0.134104</td>\n",
       "      <td>1.000000</td>\n",
       "      <td>0.011197</td>\n",
       "    </tr>\n",
       "    <tr>\n",
       "      <th>item_cnt_day</th>\n",
       "      <td>0.009402</td>\n",
       "      <td>-0.005230</td>\n",
       "      <td>0.016650</td>\n",
       "      <td>0.011197</td>\n",
       "      <td>1.000000</td>\n",
       "    </tr>\n",
       "  </tbody>\n",
       "</table>\n",
       "</div>"
      ],
      "text/plain": [
       "                date_block_num   shop_id   item_id  item_price  item_cnt_day\n",
       "date_block_num        1.000000  0.019273  0.009356    0.095010      0.009402\n",
       "shop_id               0.019273  1.000000  0.029396   -0.024034     -0.005230\n",
       "item_id               0.009356  0.029396  1.000000   -0.134104      0.016650\n",
       "item_price            0.095010 -0.024034 -0.134104    1.000000      0.011197\n",
       "item_cnt_day          0.009402 -0.005230  0.016650    0.011197      1.000000"
      ]
     },
     "execution_count": 14,
     "metadata": {},
     "output_type": "execute_result"
    }
   ],
   "source": [
    "train.corr()"
   ]
  },
  {
   "cell_type": "code",
   "execution_count": 15,
   "id": "d7fc3be7",
   "metadata": {
    "execution": {
     "iopub.execute_input": "2022-10-02T09:56:55.286193Z",
     "iopub.status.busy": "2022-10-02T09:56:55.285851Z",
     "iopub.status.idle": "2022-10-02T09:56:55.813775Z",
     "shell.execute_reply": "2022-10-02T09:56:55.812867Z"
    },
    "papermill": {
     "duration": 0.545368,
     "end_time": "2022-10-02T09:56:55.816192",
     "exception": false,
     "start_time": "2022-10-02T09:56:55.270824",
     "status": "completed"
    },
    "tags": []
   },
   "outputs": [
    {
     "data": {
      "text/plain": [
       "<AxesSubplot:>"
      ]
     },
     "execution_count": 15,
     "metadata": {},
     "output_type": "execute_result"
    },
    {
     "data": {
      "image/png": "[encoded data removed]",
      "text/plain": [
       "<Figure size 720x432 with 2 Axes>"
      ]
     },
     "metadata": {
      "needs_background": "light"
     },
     "output_type": "display_data"
    }
   ],
   "source": [
    "plt.figure(figsize = (10,6))\n",
    "sns.heatmap(train.corr())"
   ]
  },
  {
   "cell_type": "code",
   "execution_count": 16,
   "id": "4b104acf",
   "metadata": {
    "execution": {
     "iopub.execute_input": "2022-10-02T09:56:55.848261Z",
     "iopub.status.busy": "2022-10-02T09:56:55.846439Z",
     "iopub.status.idle": "2022-10-02T09:58:46.281962Z",
     "shell.execute_reply": "2022-10-02T09:58:46.281020Z"
    },
    "papermill": {
     "duration": 110.470238,
     "end_time": "2022-10-02T09:58:46.301000",
     "exception": false,
     "start_time": "2022-10-02T09:56:55.830762",
     "status": "completed"
    },
    "tags": []
   },
   "outputs": [
    {
     "data": {
      "text/plain": [
       "<AxesSubplot:xlabel='item_price', ylabel='item_id'>"
      ]
     },
     "execution_count": 16,
     "metadata": {},
     "output_type": "execute_result"
    },
    {
     "data": {
      "image/png": "[encoded data removed]",
      "text/plain": [
       "<Figure size 864x720 with 1 Axes>"
      ]
     },
     "metadata": {
      "needs_background": "light"
     },
     "output_type": "display_data"
    }
   ],
   "source": [
    "plt.figure(figsize = (12,10))\n",
    "sns.scatterplot(x = 'item_price', y = 'item_id', data = train, hue = 'item_cnt_day' )"
   ]
  },
  {
   "cell_type": "code",
   "execution_count": 17,
   "id": "d14598d7",
   "metadata": {
    "execution": {
     "iopub.execute_input": "2022-10-02T09:58:46.336223Z",
     "iopub.status.busy": "2022-10-02T09:58:46.334579Z",
     "iopub.status.idle": "2022-10-02T09:58:46.366924Z",
     "shell.execute_reply": "2022-10-02T09:58:46.365888Z"
    },
    "papermill": {
     "duration": 0.051992,
     "end_time": "2022-10-02T09:58:46.369178",
     "exception": false,
     "start_time": "2022-10-02T09:58:46.317186",
     "status": "completed"
    },
    "tags": []
   },
   "outputs": [
    {
     "data": {
      "text/html": [
       "<div>\n",
       "<style scoped>\n",
       "    .dataframe tbody tr th:only-of-type {\n",
       "        vertical-align: middle;\n",
       "    }\n",
       "\n",
       "    .dataframe tbody tr th {\n",
       "        vertical-align: top;\n",
       "    }\n",
       "\n",
       "    .dataframe thead th {\n",
       "        text-align: right;\n",
       "    }\n",
       "</style>\n",
       "<table border=\"1\" class=\"dataframe\">\n",
       "  <thead>\n",
       "    <tr style=\"text-align: right;\">\n",
       "      <th></th>\n",
       "      <th>ID</th>\n",
       "      <th>shop_id</th>\n",
       "      <th>item_id</th>\n",
       "    </tr>\n",
       "  </thead>\n",
       "  <tbody>\n",
       "    <tr>\n",
       "      <th>count</th>\n",
       "      <td>214200.000000</td>\n",
       "      <td>214200.000000</td>\n",
       "      <td>214200.000000</td>\n",
       "    </tr>\n",
       "    <tr>\n",
       "      <th>mean</th>\n",
       "      <td>107099.500000</td>\n",
       "      <td>31.642857</td>\n",
       "      <td>11019.398627</td>\n",
       "    </tr>\n",
       "    <tr>\n",
       "      <th>std</th>\n",
       "      <td>61834.358168</td>\n",
       "      <td>17.561933</td>\n",
       "      <td>6252.644590</td>\n",
       "    </tr>\n",
       "    <tr>\n",
       "      <th>min</th>\n",
       "      <td>0.000000</td>\n",
       "      <td>2.000000</td>\n",
       "      <td>30.000000</td>\n",
       "    </tr>\n",
       "    <tr>\n",
       "      <th>25%</th>\n",
       "      <td>53549.750000</td>\n",
       "      <td>16.000000</td>\n",
       "      <td>5381.500000</td>\n",
       "    </tr>\n",
       "    <tr>\n",
       "      <th>50%</th>\n",
       "      <td>107099.500000</td>\n",
       "      <td>34.500000</td>\n",
       "      <td>11203.000000</td>\n",
       "    </tr>\n",
       "    <tr>\n",
       "      <th>75%</th>\n",
       "      <td>160649.250000</td>\n",
       "      <td>47.000000</td>\n",
       "      <td>16071.500000</td>\n",
       "    </tr>\n",
       "    <tr>\n",
       "      <th>max</th>\n",
       "      <td>214199.000000</td>\n",
       "      <td>59.000000</td>\n",
       "      <td>22167.000000</td>\n",
       "    </tr>\n",
       "  </tbody>\n",
       "</table>\n",
       "</div>"
      ],
      "text/plain": [
       "                  ID        shop_id        item_id\n",
       "count  214200.000000  214200.000000  214200.000000\n",
       "mean   107099.500000      31.642857   11019.398627\n",
       "std     61834.358168      17.561933    6252.644590\n",
       "min         0.000000       2.000000      30.000000\n",
       "25%     53549.750000      16.000000    5381.500000\n",
       "50%    107099.500000      34.500000   11203.000000\n",
       "75%    160649.250000      47.000000   16071.500000\n",
       "max    214199.000000      59.000000   22167.000000"
      ]
     },
     "execution_count": 17,
     "metadata": {},
     "output_type": "execute_result"
    }
   ],
   "source": [
    "test.describe()"
   ]
  },
  {
   "cell_type": "code",
   "execution_count": 18,
   "id": "5e53fced",
   "metadata": {
    "execution": {
     "iopub.execute_input": "2022-10-02T09:58:46.407593Z",
     "iopub.status.busy": "2022-10-02T09:58:46.405961Z",
     "iopub.status.idle": "2022-10-02T09:58:46.462436Z",
     "shell.execute_reply": "2022-10-02T09:58:46.461401Z"
    },
    "papermill": {
     "duration": 0.078098,
     "end_time": "2022-10-02T09:58:46.464878",
     "exception": false,
     "start_time": "2022-10-02T09:58:46.386780",
     "status": "completed"
    },
    "tags": []
   },
   "outputs": [],
   "source": [
    "monthly = train.groupby(['date_block_num'])['item_cnt_day'].sum().reset_index()"
   ]
  },
  {
   "cell_type": "code",
   "execution_count": 19,
   "id": "76df04b6",
   "metadata": {
    "execution": {
     "iopub.execute_input": "2022-10-02T09:58:46.500758Z",
     "iopub.status.busy": "2022-10-02T09:58:46.499779Z",
     "iopub.status.idle": "2022-10-02T09:58:46.516482Z",
     "shell.execute_reply": "2022-10-02T09:58:46.515412Z"
    },
    "papermill": {
     "duration": 0.036892,
     "end_time": "2022-10-02T09:58:46.518933",
     "exception": false,
     "start_time": "2022-10-02T09:58:46.482041",
     "status": "completed"
    },
    "tags": []
   },
   "outputs": [
    {
     "data": {
      "text/html": [
       "<div>\n",
       "<style scoped>\n",
       "    .dataframe tbody tr th:only-of-type {\n",
       "        vertical-align: middle;\n",
       "    }\n",
       "\n",
       "    .dataframe tbody tr th {\n",
       "        vertical-align: top;\n",
       "    }\n",
       "\n",
       "    .dataframe thead th {\n",
       "        text-align: right;\n",
       "    }\n",
       "</style>\n",
       "<table border=\"1\" class=\"dataframe\">\n",
       "  <thead>\n",
       "    <tr style=\"text-align: right;\">\n",
       "      <th></th>\n",
       "      <th>date_block_num</th>\n",
       "      <th>item_cnt_day</th>\n",
       "    </tr>\n",
       "  </thead>\n",
       "  <tbody>\n",
       "    <tr>\n",
       "      <th>count</th>\n",
       "      <td>34.000000</td>\n",
       "      <td>34.000000</td>\n",
       "    </tr>\n",
       "    <tr>\n",
       "      <th>mean</th>\n",
       "      <td>16.500000</td>\n",
       "      <td>107300.176471</td>\n",
       "    </tr>\n",
       "    <tr>\n",
       "      <th>std</th>\n",
       "      <td>9.958246</td>\n",
       "      <td>28456.020577</td>\n",
       "    </tr>\n",
       "    <tr>\n",
       "      <th>min</th>\n",
       "      <td>0.000000</td>\n",
       "      <td>63187.000000</td>\n",
       "    </tr>\n",
       "    <tr>\n",
       "      <th>25%</th>\n",
       "      <td>8.250000</td>\n",
       "      <td>85968.500000</td>\n",
       "    </tr>\n",
       "    <tr>\n",
       "      <th>50%</th>\n",
       "      <td>16.500000</td>\n",
       "      <td>107306.000000</td>\n",
       "    </tr>\n",
       "    <tr>\n",
       "      <th>75%</th>\n",
       "      <td>24.750000</td>\n",
       "      <td>125358.500000</td>\n",
       "    </tr>\n",
       "    <tr>\n",
       "      <th>max</th>\n",
       "      <td>33.000000</td>\n",
       "      <td>183342.000000</td>\n",
       "    </tr>\n",
       "  </tbody>\n",
       "</table>\n",
       "</div>"
      ],
      "text/plain": [
       "       date_block_num   item_cnt_day\n",
       "count       34.000000      34.000000\n",
       "mean        16.500000  107300.176471\n",
       "std          9.958246   28456.020577\n",
       "min          0.000000   63187.000000\n",
       "25%          8.250000   85968.500000\n",
       "50%         16.500000  107306.000000\n",
       "75%         24.750000  125358.500000\n",
       "max         33.000000  183342.000000"
      ]
     },
     "execution_count": 19,
     "metadata": {},
     "output_type": "execute_result"
    }
   ],
   "source": [
    "monthly.describe()"
   ]
  },
  {
   "cell_type": "code",
   "execution_count": 20,
   "id": "00550627",
   "metadata": {
    "execution": {
     "iopub.execute_input": "2022-10-02T09:58:46.554283Z",
     "iopub.status.busy": "2022-10-02T09:58:46.553928Z",
     "iopub.status.idle": "2022-10-02T09:58:47.014168Z",
     "shell.execute_reply": "2022-10-02T09:58:47.013111Z"
    },
    "papermill": {
     "duration": 0.480014,
     "end_time": "2022-10-02T09:58:47.016227",
     "exception": false,
     "start_time": "2022-10-02T09:58:46.536213",
     "status": "completed"
    },
    "tags": []
   },
   "outputs": [
    {
     "data": {
      "text/plain": [
       "<AxesSubplot:xlabel='date_block_num', ylabel='item_cnt_day'>"
      ]
     },
     "execution_count": 20,
     "metadata": {},
     "output_type": "execute_result"
    },
    {
     "data": {
      "image/png": "[encoded data removed]",
      "text/plain": [
       "<Figure size 1440x720 with 1 Axes>"
      ]
     },
     "metadata": {
      "needs_background": "light"
     },
     "output_type": "display_data"
    }
   ],
   "source": [
    "plt.figure(figsize = (20, 10))\n",
    "sns.barplot(x = monthly['date_block_num'], y = monthly['item_cnt_day'], data = train)"
   ]
  },
  {
   "cell_type": "markdown",
   "id": "6e7a198e",
   "metadata": {
    "papermill": {
     "duration": 0.016021,
     "end_time": "2022-10-02T09:58:47.048960",
     "exception": false,
     "start_time": "2022-10-02T09:58:47.032939",
     "status": "completed"
    },
    "tags": []
   },
   "source": [
    "# Transforming dataset into target and independent variables"
   ]
  },
  {
   "cell_type": "code",
   "execution_count": 21,
   "id": "56bb8f6e",
   "metadata": {
    "execution": {
     "iopub.execute_input": "2022-10-02T09:58:47.085789Z",
     "iopub.status.busy": "2022-10-02T09:58:47.084697Z",
     "iopub.status.idle": "2022-10-02T09:58:47.107759Z",
     "shell.execute_reply": "2022-10-02T09:58:47.106640Z"
    },
    "papermill": {
     "duration": 0.044757,
     "end_time": "2022-10-02T09:58:47.110435",
     "exception": false,
     "start_time": "2022-10-02T09:58:47.065678",
     "status": "completed"
    },
    "tags": []
   },
   "outputs": [],
   "source": [
    "x = train[['shop_id', 'item_id']].values\n",
    "y = train['item_cnt_day'].values"
   ]
  },
  {
   "cell_type": "code",
   "execution_count": 22,
   "id": "092fc7a1",
   "metadata": {
    "execution": {
     "iopub.execute_input": "2022-10-02T09:58:47.146647Z",
     "iopub.status.busy": "2022-10-02T09:58:47.145753Z",
     "iopub.status.idle": "2022-10-02T09:58:47.152530Z",
     "shell.execute_reply": "2022-10-02T09:58:47.151523Z"
    },
    "papermill": {
     "duration": 0.027044,
     "end_time": "2022-10-02T09:58:47.155523",
     "exception": false,
     "start_time": "2022-10-02T09:58:47.128479",
     "status": "completed"
    },
    "tags": []
   },
   "outputs": [
    {
     "data": {
      "text/plain": [
       "array([[   59, 22154],\n",
       "       [   25,  2552],\n",
       "       [   25,  2552],\n",
       "       ...,\n",
       "       [   25,  7459],\n",
       "       [   25,  7440],\n",
       "       [   25,  7460]])"
      ]
     },
     "execution_count": 22,
     "metadata": {},
     "output_type": "execute_result"
    }
   ],
   "source": [
    "x"
   ]
  },
  {
   "cell_type": "markdown",
   "id": "61a7c95c",
   "metadata": {
    "papermill": {
     "duration": 0.016103,
     "end_time": "2022-10-02T09:58:47.187615",
     "exception": false,
     "start_time": "2022-10-02T09:58:47.171512",
     "status": "completed"
    },
    "tags": []
   },
   "source": [
    "# Scaling"
   ]
  },
  {
   "cell_type": "code",
   "execution_count": 23,
   "id": "d8eaa4b6",
   "metadata": {
    "execution": {
     "iopub.execute_input": "2022-10-02T09:58:47.221635Z",
     "iopub.status.busy": "2022-10-02T09:58:47.220746Z",
     "iopub.status.idle": "2022-10-02T09:58:47.227764Z",
     "shell.execute_reply": "2022-10-02T09:58:47.226699Z"
    },
    "papermill": {
     "duration": 0.026198,
     "end_time": "2022-10-02T09:58:47.229856",
     "exception": false,
     "start_time": "2022-10-02T09:58:47.203658",
     "status": "completed"
    },
    "tags": []
   },
   "outputs": [
    {
     "data": {
      "text/plain": [
       "array([ 1.,  1., -1., ...,  1.,  1.,  1.])"
      ]
     },
     "execution_count": 23,
     "metadata": {},
     "output_type": "execute_result"
    }
   ],
   "source": [
    "y"
   ]
  },
  {
   "cell_type": "code",
   "execution_count": 24,
   "id": "a1877f09",
   "metadata": {
    "execution": {
     "iopub.execute_input": "2022-10-02T09:58:47.264556Z",
     "iopub.status.busy": "2022-10-02T09:58:47.263680Z",
     "iopub.status.idle": "2022-10-02T09:58:47.437039Z",
     "shell.execute_reply": "2022-10-02T09:58:47.436009Z"
    },
    "papermill": {
     "duration": 0.193123,
     "end_time": "2022-10-02T09:58:47.439361",
     "exception": false,
     "start_time": "2022-10-02T09:58:47.246238",
     "status": "completed"
    },
    "tags": []
   },
   "outputs": [
    {
     "data": {
      "text/plain": [
       "StandardScaler()"
      ]
     },
     "execution_count": 24,
     "metadata": {},
     "output_type": "execute_result"
    }
   ],
   "source": [
    "from sklearn.preprocessing import StandardScaler\n",
    "scale = StandardScaler()\n",
    "scale.fit(x)"
   ]
  },
  {
   "cell_type": "markdown",
   "id": "ccc672f3",
   "metadata": {
    "papermill": {
     "duration": 0.016837,
     "end_time": "2022-10-02T09:58:47.474834",
     "exception": false,
     "start_time": "2022-10-02T09:58:47.457997",
     "status": "completed"
    },
    "tags": []
   },
   "source": [
    "# Train and Test Split"
   ]
  },
  {
   "cell_type": "code",
   "execution_count": 25,
   "id": "d9872cb4",
   "metadata": {
    "execution": {
     "iopub.execute_input": "2022-10-02T09:58:47.509980Z",
     "iopub.status.busy": "2022-10-02T09:58:47.508870Z",
     "iopub.status.idle": "2022-10-02T09:58:47.844888Z",
     "shell.execute_reply": "2022-10-02T09:58:47.843863Z"
    },
    "papermill": {
     "duration": 0.35612,
     "end_time": "2022-10-02T09:58:47.847336",
     "exception": false,
     "start_time": "2022-10-02T09:58:47.491216",
     "status": "completed"
    },
    "tags": []
   },
   "outputs": [],
   "source": [
    "from sklearn.model_selection import train_test_split\n",
    "x_train,x_test,y_train,y_test = train_test_split(x,y,test_size = 0.3, random_state =0)"
   ]
  },
  {
   "cell_type": "code",
   "execution_count": 26,
   "id": "7500196e",
   "metadata": {
    "execution": {
     "iopub.execute_input": "2022-10-02T09:58:47.882028Z",
     "iopub.status.busy": "2022-10-02T09:58:47.881662Z",
     "iopub.status.idle": "2022-10-02T09:58:47.888065Z",
     "shell.execute_reply": "2022-10-02T09:58:47.887186Z"
    },
    "papermill": {
     "duration": 0.025876,
     "end_time": "2022-10-02T09:58:47.889942",
     "exception": false,
     "start_time": "2022-10-02T09:58:47.864066",
     "status": "completed"
    },
    "tags": []
   },
   "outputs": [
    {
     "data": {
      "text/plain": [
       "array([[   35, 11549],\n",
       "       [   26,  1540],\n",
       "       [   47,  3705],\n",
       "       ...,\n",
       "       [   57, 16182],\n",
       "       [   56, 10967],\n",
       "       [   28,  6495]])"
      ]
     },
     "execution_count": 26,
     "metadata": {},
     "output_type": "execute_result"
    }
   ],
   "source": [
    "x_train"
   ]
  },
  {
   "cell_type": "code",
   "execution_count": 27,
   "id": "34dbf593",
   "metadata": {
    "execution": {
     "iopub.execute_input": "2022-10-02T09:58:47.924761Z",
     "iopub.status.busy": "2022-10-02T09:58:47.923929Z",
     "iopub.status.idle": "2022-10-02T09:58:47.930595Z",
     "shell.execute_reply": "2022-10-02T09:58:47.929521Z"
    },
    "papermill": {
     "duration": 0.026294,
     "end_time": "2022-10-02T09:58:47.932551",
     "exception": false,
     "start_time": "2022-10-02T09:58:47.906257",
     "status": "completed"
    },
    "tags": []
   },
   "outputs": [
    {
     "data": {
      "text/plain": [
       "array([[   31, 13688],\n",
       "       [   25,  7856],\n",
       "       [   42, 20091],\n",
       "       ...,\n",
       "       [   59,  5361],\n",
       "       [   54,  4032],\n",
       "       [   46, 16517]])"
      ]
     },
     "execution_count": 27,
     "metadata": {},
     "output_type": "execute_result"
    }
   ],
   "source": [
    "x_test"
   ]
  },
  {
   "cell_type": "code",
   "execution_count": 28,
   "id": "2fac7ada",
   "metadata": {
    "execution": {
     "iopub.execute_input": "2022-10-02T09:58:47.968715Z",
     "iopub.status.busy": "2022-10-02T09:58:47.967145Z",
     "iopub.status.idle": "2022-10-02T09:58:47.974823Z",
     "shell.execute_reply": "2022-10-02T09:58:47.973821Z"
    },
    "papermill": {
     "duration": 0.02812,
     "end_time": "2022-10-02T09:58:47.977177",
     "exception": false,
     "start_time": "2022-10-02T09:58:47.949057",
     "status": "completed"
    },
    "tags": []
   },
   "outputs": [
    {
     "data": {
      "text/plain": [
       "array([ 1., 20.,  1., ...,  1.,  1.,  2.])"
      ]
     },
     "execution_count": 28,
     "metadata": {},
     "output_type": "execute_result"
    }
   ],
   "source": [
    "y_train"
   ]
  },
  {
   "cell_type": "code",
   "execution_count": 29,
   "id": "cfd0c8e9",
   "metadata": {
    "execution": {
     "iopub.execute_input": "2022-10-02T09:58:48.014391Z",
     "iopub.status.busy": "2022-10-02T09:58:48.013504Z",
     "iopub.status.idle": "2022-10-02T09:58:48.020100Z",
     "shell.execute_reply": "2022-10-02T09:58:48.019087Z"
    },
    "papermill": {
     "duration": 0.02649,
     "end_time": "2022-10-02T09:58:48.022090",
     "exception": false,
     "start_time": "2022-10-02T09:58:47.995600",
     "status": "completed"
    },
    "tags": []
   },
   "outputs": [
    {
     "data": {
      "text/plain": [
       "array([1., 2., 1., ..., 1., 1., 1.])"
      ]
     },
     "execution_count": 29,
     "metadata": {},
     "output_type": "execute_result"
    }
   ],
   "source": [
    "y_test"
   ]
  },
  {
   "cell_type": "markdown",
   "id": "b205a7d4",
   "metadata": {
    "papermill": {
     "duration": 0.016243,
     "end_time": "2022-10-02T09:58:48.054950",
     "exception": false,
     "start_time": "2022-10-02T09:58:48.038707",
     "status": "completed"
    },
    "tags": []
   },
   "source": [
    "# Model Fitting"
   ]
  },
  {
   "cell_type": "markdown",
   "id": "ccddaa4b",
   "metadata": {
    "papermill": {
     "duration": 0.016686,
     "end_time": "2022-10-02T09:58:48.088057",
     "exception": false,
     "start_time": "2022-10-02T09:58:48.071371",
     "status": "completed"
    },
    "tags": []
   },
   "source": [
    "## Linear Regression"
   ]
  },
  {
   "cell_type": "code",
   "execution_count": 30,
   "id": "68f66768",
   "metadata": {
    "execution": {
     "iopub.execute_input": "2022-10-02T09:58:48.124084Z",
     "iopub.status.busy": "2022-10-02T09:58:48.123110Z",
     "iopub.status.idle": "2022-10-02T09:58:48.369599Z",
     "shell.execute_reply": "2022-10-02T09:58:48.368180Z"
    },
    "papermill": {
     "duration": 0.269505,
     "end_time": "2022-10-02T09:58:48.374146",
     "exception": false,
     "start_time": "2022-10-02T09:58:48.104641",
     "status": "completed"
    },
    "tags": []
   },
   "outputs": [
    {
     "data": {
      "text/plain": [
       "LinearRegression()"
      ]
     },
     "execution_count": 30,
     "metadata": {},
     "output_type": "execute_result"
    }
   ],
   "source": [
    "from sklearn.linear_model import LinearRegression\n",
    "regressor = LinearRegression()\n",
    "regressor.fit(x_train, y_train)"
   ]
  },
  {
   "cell_type": "code",
   "execution_count": 31,
   "id": "a2c2a2e4",
   "metadata": {
    "execution": {
     "iopub.execute_input": "2022-10-02T09:58:48.468402Z",
     "iopub.status.busy": "2022-10-02T09:58:48.468039Z",
     "iopub.status.idle": "2022-10-02T09:58:48.479312Z",
     "shell.execute_reply": "2022-10-02T09:58:48.478066Z"
    },
    "papermill": {
     "duration": 0.060262,
     "end_time": "2022-10-02T09:58:48.483305",
     "exception": false,
     "start_time": "2022-10-02T09:58:48.423043",
     "status": "completed"
    },
    "tags": []
   },
   "outputs": [],
   "source": [
    "y_predicted = regressor.predict(x_test)"
   ]
  },
  {
   "cell_type": "code",
   "execution_count": 32,
   "id": "eb6c347e",
   "metadata": {
    "execution": {
     "iopub.execute_input": "2022-10-02T09:58:48.573035Z",
     "iopub.status.busy": "2022-10-02T09:58:48.572285Z",
     "iopub.status.idle": "2022-10-02T09:58:48.593030Z",
     "shell.execute_reply": "2022-10-02T09:58:48.591592Z"
    },
    "papermill": {
     "duration": 0.070199,
     "end_time": "2022-10-02T09:58:48.596969",
     "exception": false,
     "start_time": "2022-10-02T09:58:48.526770",
     "status": "completed"
    },
    "tags": []
   },
   "outputs": [
    {
     "name": "stdout",
     "output_type": "stream",
     "text": [
      "[[1.27 1.  ]\n",
      " [1.23 2.  ]\n",
      " [1.3  1.  ]\n",
      " ...\n",
      " [1.19 1.  ]\n",
      " [1.18 1.  ]\n",
      " [1.27 1.  ]]\n"
     ]
    }
   ],
   "source": [
    "np.set_printoptions(precision=2)\n",
    "print(np.concatenate((y_predicted.reshape(len(y_predicted),1), y_test.reshape(len(y_test),1)),1))"
   ]
  },
  {
   "cell_type": "code",
   "execution_count": 33,
   "id": "2b8a2845",
   "metadata": {
    "execution": {
     "iopub.execute_input": "2022-10-02T09:58:48.640676Z",
     "iopub.status.busy": "2022-10-02T09:58:48.640364Z",
     "iopub.status.idle": "2022-10-02T09:58:48.645066Z",
     "shell.execute_reply": "2022-10-02T09:58:48.644020Z"
    },
    "papermill": {
     "duration": 0.024678,
     "end_time": "2022-10-02T09:58:48.647147",
     "exception": false,
     "start_time": "2022-10-02T09:58:48.622469",
     "status": "completed"
    },
    "tags": []
   },
   "outputs": [],
   "source": [
    "from sklearn.metrics import mean_squared_error, mean_absolute_error"
   ]
  },
  {
   "cell_type": "markdown",
   "id": "cca440be",
   "metadata": {
    "papermill": {
     "duration": 0.016381,
     "end_time": "2022-10-02T09:58:48.680373",
     "exception": false,
     "start_time": "2022-10-02T09:58:48.663992",
     "status": "completed"
    },
    "tags": []
   },
   "source": [
    "## Performance Evaluation"
   ]
  },
  {
   "cell_type": "code",
   "execution_count": 34,
   "id": "de70e3f6",
   "metadata": {
    "execution": {
     "iopub.execute_input": "2022-10-02T09:58:48.716174Z",
     "iopub.status.busy": "2022-10-02T09:58:48.715253Z",
     "iopub.status.idle": "2022-10-02T09:58:48.733909Z",
     "shell.execute_reply": "2022-10-02T09:58:48.732324Z"
    },
    "papermill": {
     "duration": 0.038648,
     "end_time": "2022-10-02T09:58:48.736111",
     "exception": false,
     "start_time": "2022-10-02T09:58:48.697463",
     "status": "completed"
    },
    "tags": []
   },
   "outputs": [
    {
     "name": "stdout",
     "output_type": "stream",
     "text": [
      "MSE 5.66544875792455\n",
      "MAE 0.4451031981450124\n",
      "RMSE 2.380220317097674\n"
     ]
    }
   ],
   "source": [
    "print('MSE',mean_squared_error(y_test,y_predicted))\n",
    "print('MAE',mean_absolute_error(y_test,y_predicted))\n",
    "print('RMSE',np.sqrt(mean_squared_error(y_test,y_predicted)))"
   ]
  },
  {
   "cell_type": "markdown",
   "id": "392f4c29",
   "metadata": {
    "papermill": {
     "duration": 0.016389,
     "end_time": "2022-10-02T09:58:48.769485",
     "exception": false,
     "start_time": "2022-10-02T09:58:48.753096",
     "status": "completed"
    },
    "tags": []
   },
   "source": [
    "## Decision Tree\n"
   ]
  },
  {
   "cell_type": "code",
   "execution_count": 35,
   "id": "a4373194",
   "metadata": {
    "execution": {
     "iopub.execute_input": "2022-10-02T09:58:48.805386Z",
     "iopub.status.busy": "2022-10-02T09:58:48.804461Z",
     "iopub.status.idle": "2022-10-02T09:58:54.204162Z",
     "shell.execute_reply": "2022-10-02T09:58:54.201879Z"
    },
    "papermill": {
     "duration": 5.420879,
     "end_time": "2022-10-02T09:58:54.207265",
     "exception": false,
     "start_time": "2022-10-02T09:58:48.786386",
     "status": "completed"
    },
    "tags": []
   },
   "outputs": [
    {
     "data": {
      "text/plain": [
       "DecisionTreeRegressor(random_state=0)"
      ]
     },
     "execution_count": 35,
     "metadata": {},
     "output_type": "execute_result"
    }
   ],
   "source": [
    "from sklearn.tree import DecisionTreeRegressor\n",
    "regressor_DT = DecisionTreeRegressor(random_state = 0)\n",
    "regressor_DT.fit(x_train, y_train)"
   ]
  },
  {
   "cell_type": "code",
   "execution_count": 36,
   "id": "ac919c9c",
   "metadata": {
    "execution": {
     "iopub.execute_input": "2022-10-02T09:58:54.261063Z",
     "iopub.status.busy": "2022-10-02T09:58:54.260591Z",
     "iopub.status.idle": "2022-10-02T09:58:54.612766Z",
     "shell.execute_reply": "2022-10-02T09:58:54.611701Z"
    },
    "papermill": {
     "duration": 0.381001,
     "end_time": "2022-10-02T09:58:54.615548",
     "exception": false,
     "start_time": "2022-10-02T09:58:54.234547",
     "status": "completed"
    },
    "tags": []
   },
   "outputs": [],
   "source": [
    "y_pred = regressor_DT.predict(x_test)"
   ]
  },
  {
   "cell_type": "code",
   "execution_count": 37,
   "id": "15888fc8",
   "metadata": {
    "execution": {
     "iopub.execute_input": "2022-10-02T09:58:54.653180Z",
     "iopub.status.busy": "2022-10-02T09:58:54.652305Z",
     "iopub.status.idle": "2022-10-02T09:58:54.663721Z",
     "shell.execute_reply": "2022-10-02T09:58:54.662321Z"
    },
    "papermill": {
     "duration": 0.032431,
     "end_time": "2022-10-02T09:58:54.665969",
     "exception": false,
     "start_time": "2022-10-02T09:58:54.633538",
     "status": "completed"
    },
    "tags": []
   },
   "outputs": [
    {
     "name": "stdout",
     "output_type": "stream",
     "text": [
      "[[1.   1.  ]\n",
      " [1.58 2.  ]\n",
      " [1.   1.  ]\n",
      " ...\n",
      " [1.28 1.  ]\n",
      " [1.   1.  ]\n",
      " [1.   1.  ]]\n"
     ]
    }
   ],
   "source": [
    "np.set_printoptions(precision=2)\n",
    "print(np.concatenate((y_pred.reshape(len(y_pred),1), y_test.reshape(len(y_test),1)),1))"
   ]
  },
  {
   "cell_type": "code",
   "execution_count": 38,
   "id": "191a82a3",
   "metadata": {
    "execution": {
     "iopub.execute_input": "2022-10-02T09:58:54.705181Z",
     "iopub.status.busy": "2022-10-02T09:58:54.704328Z",
     "iopub.status.idle": "2022-10-02T09:58:54.723545Z",
     "shell.execute_reply": "2022-10-02T09:58:54.722123Z"
    },
    "papermill": {
     "duration": 0.040474,
     "end_time": "2022-10-02T09:58:54.725864",
     "exception": false,
     "start_time": "2022-10-02T09:58:54.685390",
     "status": "completed"
    },
    "tags": []
   },
   "outputs": [
    {
     "name": "stdout",
     "output_type": "stream",
     "text": [
      "MSE 5.66544875792455\n",
      "MAE 0.4451031981450124\n",
      "RMSE 2.380220317097674\n"
     ]
    }
   ],
   "source": [
    "print('MSE',mean_squared_error(y_test,y_predicted))\n",
    "print('MAE',mean_absolute_error(y_test,y_predicted))\n",
    "print('RMSE',np.sqrt(mean_squared_error(y_test,y_predicted)))"
   ]
  },
  {
   "cell_type": "markdown",
   "id": "8d08fcc8",
   "metadata": {
    "papermill": {
     "duration": 0.018494,
     "end_time": "2022-10-02T09:58:54.762087",
     "exception": false,
     "start_time": "2022-10-02T09:58:54.743593",
     "status": "completed"
    },
    "tags": []
   },
   "source": [
    "## Random Forest"
   ]
  },
  {
   "cell_type": "code",
   "execution_count": 39,
   "id": "8caeb462",
   "metadata": {
    "execution": {
     "iopub.execute_input": "2022-10-02T09:58:54.798873Z",
     "iopub.status.busy": "2022-10-02T09:58:54.797820Z",
     "iopub.status.idle": "2022-10-02T10:01:50.569695Z",
     "shell.execute_reply": "2022-10-02T10:01:50.568751Z"
    },
    "papermill": {
     "duration": 175.808969,
     "end_time": "2022-10-02T10:01:50.588490",
     "exception": false,
     "start_time": "2022-10-02T09:58:54.779521",
     "status": "completed"
    },
    "tags": []
   },
   "outputs": [
    {
     "data": {
      "text/plain": [
       "RandomForestRegressor(n_estimators=50, random_state=0)"
      ]
     },
     "execution_count": 39,
     "metadata": {},
     "output_type": "execute_result"
    }
   ],
   "source": [
    "from sklearn.ensemble import RandomForestRegressor\n",
    "regressor = RandomForestRegressor(n_estimators = 50, random_state = 0)\n",
    "regressor.fit(x_train, y_train)"
   ]
  },
  {
   "cell_type": "code",
   "execution_count": 40,
   "id": "2495f235",
   "metadata": {
    "execution": {
     "iopub.execute_input": "2022-10-02T10:01:50.623311Z",
     "iopub.status.busy": "2022-10-02T10:01:50.622990Z",
     "iopub.status.idle": "2022-10-02T10:02:05.052868Z",
     "shell.execute_reply": "2022-10-02T10:02:05.051857Z"
    },
    "papermill": {
     "duration": 14.449882,
     "end_time": "2022-10-02T10:02:05.055282",
     "exception": false,
     "start_time": "2022-10-02T10:01:50.605400",
     "status": "completed"
    },
    "tags": []
   },
   "outputs": [],
   "source": [
    "y_predicted = regressor.predict(x_test)"
   ]
  },
  {
   "cell_type": "code",
   "execution_count": 41,
   "id": "c488b3f1",
   "metadata": {
    "execution": {
     "iopub.execute_input": "2022-10-02T10:02:05.091631Z",
     "iopub.status.busy": "2022-10-02T10:02:05.090646Z",
     "iopub.status.idle": "2022-10-02T10:02:05.101454Z",
     "shell.execute_reply": "2022-10-02T10:02:05.100106Z"
    },
    "papermill": {
     "duration": 0.03092,
     "end_time": "2022-10-02T10:02:05.103688",
     "exception": false,
     "start_time": "2022-10-02T10:02:05.072768",
     "status": "completed"
    },
    "tags": []
   },
   "outputs": [
    {
     "name": "stdout",
     "output_type": "stream",
     "text": [
      "[[1.   1.  ]\n",
      " [1.59 2.  ]\n",
      " [1.   1.  ]\n",
      " ...\n",
      " [1.27 1.  ]\n",
      " [1.   1.  ]\n",
      " [1.   1.  ]]\n"
     ]
    }
   ],
   "source": [
    "np.set_printoptions(precision=2)\n",
    "print(np.concatenate((y_predicted.reshape(len(y_predicted),1), y_test.reshape(len(y_test),1)),1))"
   ]
  },
  {
   "cell_type": "code",
   "execution_count": 42,
   "id": "33713f47",
   "metadata": {
    "execution": {
     "iopub.execute_input": "2022-10-02T10:02:05.143142Z",
     "iopub.status.busy": "2022-10-02T10:02:05.142041Z",
     "iopub.status.idle": "2022-10-02T10:02:05.162155Z",
     "shell.execute_reply": "2022-10-02T10:02:05.161207Z"
    },
    "papermill": {
     "duration": 0.041997,
     "end_time": "2022-10-02T10:02:05.164449",
     "exception": false,
     "start_time": "2022-10-02T10:02:05.122452",
     "status": "completed"
    },
    "tags": []
   },
   "outputs": [
    {
     "name": "stdout",
     "output_type": "stream",
     "text": [
      "MSE 4.0217604761725\n",
      "MAE 0.3297904087378054\n",
      "RMSE 2.0054327403761265\n"
     ]
    }
   ],
   "source": [
    "print('MSE',mean_squared_error(y_test,y_predicted))\n",
    "print('MAE',mean_absolute_error(y_test,y_predicted))\n",
    "print('RMSE',np.sqrt(mean_squared_error(y_test,y_predicted)))"
   ]
  },
  {
   "cell_type": "markdown",
   "id": "9b6c0d6f",
   "metadata": {
    "papermill": {
     "duration": 0.01716,
     "end_time": "2022-10-02T10:02:05.198928",
     "exception": false,
     "start_time": "2022-10-02T10:02:05.181768",
     "status": "completed"
    },
    "tags": []
   },
   "source": [
    "## K nearest Kneighbors"
   ]
  },
  {
   "cell_type": "code",
   "execution_count": 43,
   "id": "a6f3cc39",
   "metadata": {
    "execution": {
     "iopub.execute_input": "2022-10-02T10:02:05.234369Z",
     "iopub.status.busy": "2022-10-02T10:02:05.234022Z",
     "iopub.status.idle": "2022-10-02T10:02:05.238718Z",
     "shell.execute_reply": "2022-10-02T10:02:05.237666Z"
    },
    "papermill": {
     "duration": 0.024932,
     "end_time": "2022-10-02T10:02:05.240776",
     "exception": false,
     "start_time": "2022-10-02T10:02:05.215844",
     "status": "completed"
    },
    "tags": []
   },
   "outputs": [],
   "source": [
    "from sklearn import neighbors"
   ]
  },
  {
   "cell_type": "code",
   "execution_count": 44,
   "id": "d48edffc",
   "metadata": {
    "execution": {
     "iopub.execute_input": "2022-10-02T10:02:05.275950Z",
     "iopub.status.busy": "2022-10-02T10:02:05.275648Z",
     "iopub.status.idle": "2022-10-02T10:09:31.309187Z",
     "shell.execute_reply": "2022-10-02T10:09:31.307832Z"
    },
    "papermill": {
     "duration": 446.053702,
     "end_time": "2022-10-02T10:09:31.311603",
     "exception": false,
     "start_time": "2022-10-02T10:02:05.257901",
     "status": "completed"
    },
    "tags": []
   },
   "outputs": [
    {
     "name": "stdout",
     "output_type": "stream",
     "text": [
      "RMSE value for k=  1 is: 2.263528949777619\n",
      "RMSE value for k=  2 is: 2.7351272727772837\n",
      "RMSE value for k=  3 is: 2.522433630477548\n",
      "RMSE value for k=  4 is: 2.4049365167544012\n",
      "RMSE value for k=  5 is: 5.92118185781142\n",
      "RMSE value for k=  6 is: 5.0904631744848405\n",
      "RMSE value for k=  7 is: 4.510566996353156\n",
      "RMSE value for k=  8 is: 4.0793235061095325\n",
      "RMSE value for k=  9 is: 3.755957876564512\n",
      "RMSE value for k=  10 is: 3.514399436673587\n",
      "RMSE value for k=  11 is: 3.3179912698167944\n",
      "RMSE value for k=  12 is: 3.164606971656444\n",
      "RMSE value for k=  13 is: 3.0423249379815616\n",
      "RMSE value for k=  14 is: 2.9407788792493896\n",
      "RMSE value for k=  15 is: 2.854674295082899\n",
      "RMSE value for k=  16 is: 2.7892618237690594\n",
      "RMSE value for k=  17 is: 2.7285269100104523\n",
      "RMSE value for k=  18 is: 2.6762262985521743\n",
      "RMSE value for k=  19 is: 2.6303715308076634\n",
      "RMSE value for k=  20 is: 2.5935820254194626\n",
      "RMSE value for k=  21 is: 2.5577105025178017\n",
      "RMSE value for k=  22 is: 2.535713241791306\n",
      "RMSE value for k=  23 is: 2.5127078283311204\n",
      "RMSE value for k=  24 is: 2.4886416108208693\n",
      "RMSE value for k=  25 is: 2.474245419946117\n",
      "RMSE value for k=  26 is: 2.4548018882220584\n",
      "RMSE value for k=  27 is: 2.4422597461635975\n",
      "RMSE value for k=  28 is: 2.4262181790671336\n",
      "RMSE value for k=  29 is: 2.4133131755244026\n",
      "RMSE value for k=  30 is: 2.401015613911843\n",
      "RMSE value for k=  31 is: 2.3890831061167477\n",
      "RMSE value for k=  32 is: 2.38141392618458\n",
      "RMSE value for k=  33 is: 2.3713230255453253\n",
      "RMSE value for k=  34 is: 2.366393320987089\n",
      "RMSE value for k=  35 is: 2.3579905082967385\n",
      "RMSE value for k=  36 is: 2.3508448410252303\n",
      "RMSE value for k=  37 is: 2.343793676349436\n",
      "RMSE value for k=  38 is: 2.340503390613283\n",
      "RMSE value for k=  39 is: 2.3352132085244612\n",
      "RMSE value for k=  40 is: 2.3305917967032546\n"
     ]
    }
   ],
   "source": [
    "rmse_val = []\n",
    "for K in range(40):\n",
    "    K = K+1\n",
    "    regressor = neighbors.KNeighborsRegressor(n_neighbors = K)\n",
    "\n",
    "    regressor.fit(x_train, y_train) \n",
    "    y_predicted = regressor.predict(x_test) \n",
    "    error = np.sqrt(mean_squared_error(y_test,y_predicted))\n",
    "    rmse_val.append(error) \n",
    "    print('RMSE value for k= ' , K , 'is:', error)"
   ]
  },
  {
   "cell_type": "code",
   "execution_count": 45,
   "id": "c12cecf8",
   "metadata": {
    "execution": {
     "iopub.execute_input": "2022-10-02T10:09:31.354252Z",
     "iopub.status.busy": "2022-10-02T10:09:31.353681Z",
     "iopub.status.idle": "2022-10-02T10:09:31.590664Z",
     "shell.execute_reply": "2022-10-02T10:09:31.589840Z"
    },
    "papermill": {
     "duration": 0.260568,
     "end_time": "2022-10-02T10:09:31.592710",
     "exception": false,
     "start_time": "2022-10-02T10:09:31.332142",
     "status": "completed"
    },
    "tags": []
   },
   "outputs": [
    {
     "data": {
      "text/plain": [
       "<AxesSubplot:>"
      ]
     },
     "execution_count": 45,
     "metadata": {},
     "output_type": "execute_result"
    },
    {
     "data": {
      "image/png": "[encoded data removed]",
      "text/plain": [
       "<Figure size 432x288 with 1 Axes>"
      ]
     },
     "metadata": {
      "needs_background": "light"
     },
     "output_type": "display_data"
    }
   ],
   "source": [
    "curve = pd.DataFrame(rmse_val)\n",
    "curve.plot()"
   ]
  },
  {
   "cell_type": "markdown",
   "id": "2cca9d6d",
   "metadata": {
    "papermill": {
     "duration": 0.019625,
     "end_time": "2022-10-02T10:09:31.632789",
     "exception": false,
     "start_time": "2022-10-02T10:09:31.613164",
     "status": "completed"
    },
    "tags": []
   },
   "source": [
    "## Grid Search for searching of best parameter"
   ]
  },
  {
   "cell_type": "code",
   "execution_count": 46,
   "id": "4b950a2b",
   "metadata": {
    "execution": {
     "iopub.execute_input": "2022-10-02T10:09:31.673200Z",
     "iopub.status.busy": "2022-10-02T10:09:31.672781Z",
     "iopub.status.idle": "2022-10-02T10:16:47.761015Z",
     "shell.execute_reply": "2022-10-02T10:16:47.760022Z"
    },
    "papermill": {
     "duration": 436.130678,
     "end_time": "2022-10-02T10:16:47.782986",
     "exception": false,
     "start_time": "2022-10-02T10:09:31.652308",
     "status": "completed"
    },
    "tags": []
   },
   "outputs": [
    {
     "data": {
      "text/plain": [
       "{'n_neighbors': 70}"
      ]
     },
     "execution_count": 46,
     "metadata": {},
     "output_type": "execute_result"
    }
   ],
   "source": [
    "from sklearn.model_selection import GridSearchCV\n",
    "params = {'n_neighbors':[1,2,3,4,5,6,7,8,9,10,20,30,40,50,60,70]}\n",
    "\n",
    "knn = neighbors.KNeighborsRegressor()\n",
    "\n",
    "model = GridSearchCV(knn, params, cv=5)\n",
    "model.fit(x_train,y_train)\n",
    "model.best_params_"
   ]
  },
  {
   "cell_type": "code",
   "execution_count": 47,
   "id": "5956332f",
   "metadata": {
    "execution": {
     "iopub.execute_input": "2022-10-02T10:16:47.823159Z",
     "iopub.status.busy": "2022-10-02T10:16:47.822821Z",
     "iopub.status.idle": "2022-10-02T10:16:49.360688Z",
     "shell.execute_reply": "2022-10-02T10:16:49.359746Z"
    },
    "papermill": {
     "duration": 1.560194,
     "end_time": "2022-10-02T10:16:49.362789",
     "exception": false,
     "start_time": "2022-10-02T10:16:47.802595",
     "status": "completed"
    },
    "tags": []
   },
   "outputs": [
    {
     "data": {
      "text/plain": [
       "KNeighborsRegressor(n_neighbors=1)"
      ]
     },
     "execution_count": 47,
     "metadata": {},
     "output_type": "execute_result"
    }
   ],
   "source": [
    "regressor = neighbors.KNeighborsRegressor(n_neighbors = 1)\n",
    "regressor.fit(x_train, y_train) "
   ]
  },
  {
   "cell_type": "markdown",
   "id": "ff089286",
   "metadata": {
    "papermill": {
     "duration": 0.019608,
     "end_time": "2022-10-02T10:16:49.402603",
     "exception": false,
     "start_time": "2022-10-02T10:16:49.382995",
     "status": "completed"
    },
    "tags": []
   },
   "source": [
    "### Best param selected is 70. But we have the same accuracy if we take K = 1. Therfore we will go for K = 1"
   ]
  },
  {
   "cell_type": "code",
   "execution_count": 48,
   "id": "12f24872",
   "metadata": {
    "execution": {
     "iopub.execute_input": "2022-10-02T10:16:49.443246Z",
     "iopub.status.busy": "2022-10-02T10:16:49.442879Z",
     "iopub.status.idle": "2022-10-02T10:16:54.453834Z",
     "shell.execute_reply": "2022-10-02T10:16:54.452643Z"
    },
    "papermill": {
     "duration": 5.03421,
     "end_time": "2022-10-02T10:16:54.456276",
     "exception": false,
     "start_time": "2022-10-02T10:16:49.422066",
     "status": "completed"
    },
    "tags": []
   },
   "outputs": [],
   "source": [
    "  y_predicted = regressor.predict(x_test)"
   ]
  },
  {
   "cell_type": "code",
   "execution_count": 49,
   "id": "d059692b",
   "metadata": {
    "execution": {
     "iopub.execute_input": "2022-10-02T10:16:54.499447Z",
     "iopub.status.busy": "2022-10-02T10:16:54.498529Z",
     "iopub.status.idle": "2022-10-02T10:16:54.509306Z",
     "shell.execute_reply": "2022-10-02T10:16:54.508133Z"
    },
    "papermill": {
     "duration": 0.033988,
     "end_time": "2022-10-02T10:16:54.511588",
     "exception": false,
     "start_time": "2022-10-02T10:16:54.477600",
     "status": "completed"
    },
    "tags": []
   },
   "outputs": [
    {
     "name": "stdout",
     "output_type": "stream",
     "text": [
      "[[1. 1.]\n",
      " [1. 2.]\n",
      " [1. 1.]\n",
      " ...\n",
      " [1. 1.]\n",
      " [1. 1.]\n",
      " [1. 1.]]\n"
     ]
    }
   ],
   "source": [
    "np.set_printoptions(precision=2)\n",
    "print(np.concatenate((y_predicted.reshape(len(y_predicted),1), y_test.reshape(len(y_test),1)),1))"
   ]
  },
  {
   "cell_type": "code",
   "execution_count": 50,
   "id": "87077a54",
   "metadata": {
    "execution": {
     "iopub.execute_input": "2022-10-02T10:16:54.553895Z",
     "iopub.status.busy": "2022-10-02T10:16:54.553016Z",
     "iopub.status.idle": "2022-10-02T10:16:54.571585Z",
     "shell.execute_reply": "2022-10-02T10:16:54.570218Z"
    },
    "papermill": {
     "duration": 0.041473,
     "end_time": "2022-10-02T10:16:54.573678",
     "exception": false,
     "start_time": "2022-10-02T10:16:54.532205",
     "status": "completed"
    },
    "tags": []
   },
   "outputs": [
    {
     "name": "stdout",
     "output_type": "stream",
     "text": [
      "MSE 5.123563306481371\n",
      "MAE 0.36634705451572797\n",
      "RMSE 2.263528949777619\n"
     ]
    }
   ],
   "source": [
    "print('MSE',mean_squared_error(y_test,y_predicted))\n",
    "print('MAE',mean_absolute_error(y_test,y_predicted))\n",
    "print('RMSE',np.sqrt(mean_squared_error(y_test,y_predicted)))"
   ]
  },
  {
   "cell_type": "code",
   "execution_count": 51,
   "id": "e2b885c3",
   "metadata": {
    "execution": {
     "iopub.execute_input": "2022-10-02T10:16:54.615633Z",
     "iopub.status.busy": "2022-10-02T10:16:54.614986Z",
     "iopub.status.idle": "2022-10-02T10:16:54.765857Z",
     "shell.execute_reply": "2022-10-02T10:16:54.764824Z"
    },
    "papermill": {
     "duration": 0.174741,
     "end_time": "2022-10-02T10:16:54.768406",
     "exception": false,
     "start_time": "2022-10-02T10:16:54.593665",
     "status": "completed"
    },
    "tags": []
   },
   "outputs": [],
   "source": [
    "submission = pd.DataFrame(list(zip(test['ID'], y_pred)),\n",
    "               columns =['ID', 'item_cnt_month'])"
   ]
  },
  {
   "cell_type": "code",
   "execution_count": 52,
   "id": "9ff66ad1",
   "metadata": {
    "execution": {
     "iopub.execute_input": "2022-10-02T10:16:54.811297Z",
     "iopub.status.busy": "2022-10-02T10:16:54.809616Z",
     "iopub.status.idle": "2022-10-02T10:16:54.822332Z",
     "shell.execute_reply": "2022-10-02T10:16:54.821198Z"
    },
    "papermill": {
     "duration": 0.035619,
     "end_time": "2022-10-02T10:16:54.824617",
     "exception": false,
     "start_time": "2022-10-02T10:16:54.788998",
     "status": "completed"
    },
    "tags": []
   },
   "outputs": [
    {
     "data": {
      "text/html": [
       "<div>\n",
       "<style scoped>\n",
       "    .dataframe tbody tr th:only-of-type {\n",
       "        vertical-align: middle;\n",
       "    }\n",
       "\n",
       "    .dataframe tbody tr th {\n",
       "        vertical-align: top;\n",
       "    }\n",
       "\n",
       "    .dataframe thead th {\n",
       "        text-align: right;\n",
       "    }\n",
       "</style>\n",
       "<table border=\"1\" class=\"dataframe\">\n",
       "  <thead>\n",
       "    <tr style=\"text-align: right;\">\n",
       "      <th></th>\n",
       "      <th>ID</th>\n",
       "      <th>item_cnt_month</th>\n",
       "    </tr>\n",
       "  </thead>\n",
       "  <tbody>\n",
       "    <tr>\n",
       "      <th>0</th>\n",
       "      <td>0</td>\n",
       "      <td>1.000000</td>\n",
       "    </tr>\n",
       "    <tr>\n",
       "      <th>1</th>\n",
       "      <td>1</td>\n",
       "      <td>1.579882</td>\n",
       "    </tr>\n",
       "    <tr>\n",
       "      <th>2</th>\n",
       "      <td>2</td>\n",
       "      <td>1.000000</td>\n",
       "    </tr>\n",
       "    <tr>\n",
       "      <th>3</th>\n",
       "      <td>3</td>\n",
       "      <td>1.000000</td>\n",
       "    </tr>\n",
       "    <tr>\n",
       "      <th>4</th>\n",
       "      <td>4</td>\n",
       "      <td>1.045455</td>\n",
       "    </tr>\n",
       "    <tr>\n",
       "      <th>...</th>\n",
       "      <td>...</td>\n",
       "      <td>...</td>\n",
       "    </tr>\n",
       "    <tr>\n",
       "      <th>214195</th>\n",
       "      <td>214195</td>\n",
       "      <td>1.000000</td>\n",
       "    </tr>\n",
       "    <tr>\n",
       "      <th>214196</th>\n",
       "      <td>214196</td>\n",
       "      <td>1.055556</td>\n",
       "    </tr>\n",
       "    <tr>\n",
       "      <th>214197</th>\n",
       "      <td>214197</td>\n",
       "      <td>1.000000</td>\n",
       "    </tr>\n",
       "    <tr>\n",
       "      <th>214198</th>\n",
       "      <td>214198</td>\n",
       "      <td>1.000000</td>\n",
       "    </tr>\n",
       "    <tr>\n",
       "      <th>214199</th>\n",
       "      <td>214199</td>\n",
       "      <td>1.804714</td>\n",
       "    </tr>\n",
       "  </tbody>\n",
       "</table>\n",
       "<p>214200 rows × 2 columns</p>\n",
       "</div>"
      ],
      "text/plain": [
       "            ID  item_cnt_month\n",
       "0            0        1.000000\n",
       "1            1        1.579882\n",
       "2            2        1.000000\n",
       "3            3        1.000000\n",
       "4            4        1.045455\n",
       "...        ...             ...\n",
       "214195  214195        1.000000\n",
       "214196  214196        1.055556\n",
       "214197  214197        1.000000\n",
       "214198  214198        1.000000\n",
       "214199  214199        1.804714\n",
       "\n",
       "[214200 rows x 2 columns]"
      ]
     },
     "execution_count": 52,
     "metadata": {},
     "output_type": "execute_result"
    }
   ],
   "source": [
    "submission"
   ]
  },
  {
   "cell_type": "code",
   "execution_count": 53,
   "id": "13d148f2",
   "metadata": {
    "execution": {
     "iopub.execute_input": "2022-10-02T10:16:54.867224Z",
     "iopub.status.busy": "2022-10-02T10:16:54.866391Z",
     "iopub.status.idle": "2022-10-02T10:16:55.191325Z",
     "shell.execute_reply": "2022-10-02T10:16:55.190369Z"
    },
    "papermill": {
     "duration": 0.3481,
     "end_time": "2022-10-02T10:16:55.193893",
     "exception": false,
     "start_time": "2022-10-02T10:16:54.845793",
     "status": "completed"
    },
    "tags": []
   },
   "outputs": [],
   "source": [
    "submission.to_csv('submission.csv',index = False)"
   ]
  },
  {
   "cell_type": "markdown",
   "id": "a22f501a",
   "metadata": {
    "papermill": {
     "duration": 0.019543,
     "end_time": "2022-10-02T10:16:55.234277",
     "exception": false,
     "start_time": "2022-10-02T10:16:55.214734",
     "status": "completed"
    },
    "tags": []
   },
   "source": [
    "## Comparing the algorithms on the basis of RMSE, It was found that Decision Tree wins the race with lowest RMSE of 1.94."
   ]
  }
 ],
 "metadata": {
  "kernelspec": {
   "display_name": "Python 3",
   "language": "python",
   "name": "python3"
  },
  "language_info": {
   "codemirror_mode": {
    "name": "ipython",
    "version": 3
   },
   "file_extension": ".py",
   "mimetype": "text/x-python",
   "name": "python",
   "nbconvert_exporter": "python",
   "pygments_lexer": "ipython3",
   "version": "3.7.12"
  },
  "papermill": {
   "default_parameters": {},
   "duration": 1214.954845,
   "end_time": "2022-10-02T10:16:55.978317",
   "environment_variables": {},
   "exception": null,
   "input_path": "__notebook__.ipynb",
   "output_path": "__notebook__.ipynb",
   "parameters": {},
   "start_time": "2022-10-02T09:56:41.023472",
   "version": "2.3.4"
  }
 },
 "nbformat": 4,
 "nbformat_minor": 5
}
