{
 "cells": [
  {
   "cell_type": "markdown",
   "id": "84794ad7",
   "metadata": {},
   "source": [
    "# MNISTM-Digit Recognizer Using CNN with Keras"
   ]
  },
  {
   "cell_type": "markdown",
   "id": "028cbf36",
   "metadata": {},
   "source": [
    "### MNIST Dataset: \n",
    "##### It is a large database of handwritten digits that is commonly used for training various image processing systems. This dataset is considered to be the \"hello world\" dataset for Computer Vision. \n",
    "##### This dataset contains images of handwritten digits. It has 60,000 rgb images under the training set and 10,000 rgb images under the test set. We will use the Keras library with Tensorflow backend to classify the images."
   ]
  },
  {
   "cell_type": "markdown",
   "id": "1fff4b96",
   "metadata": {},
   "source": [
    "### Import Libraries\n",
    "###### First, we import all the necessary libraries required."
   ]
  },
  {
   "cell_type": "code",
   "execution_count": 33,
   "id": "1926b613",
   "metadata": {},
   "outputs": [],
   "source": [
    "import torchvision\n",
    "import os\n",
    "import matplotlib.pyplot as plt\n",
    "import pandas as pd\n",
    "import numpy as np\n",
    "import warnings\n",
    "import tensorflow as tf\n",
    "import keras\n",
    "import torch\n",
    "from PIL import Image\n",
    "from torchvision.datasets import VisionDataset\n",
    "from torchvision.datasets.utils import download_and_extract_archive\n",
    "from keras.models import Sequential\n",
    "from keras.layers import Dense, Dropout, Activation, Flatten\n",
    "from tensorflow.keras.optimizers import Adam\n",
    "from keras.utils import np_utils\n",
    "from keras.layers import Conv2D, MaxPooling2D, ZeroPadding2D, GlobalAveragePooling2D\n",
    "from keras.preprocessing.image import ImageDataGenerator\n",
    "from tensorflow.keras.optimizers import RMSprop\n",
    "from keras.callbacks import LearningRateScheduler\n",
    "from tensorflow.keras.callbacks import EarlyStopping, ReduceLROnPlateau, ModelCheckpoint\n",
    "from keras.utils.vis_utils import plot_model\n",
    "from tensorflow.keras.layers import BatchNormalization\n",
    "from tensorflow.keras.utils import to_categorical\n",
    "from sklearn.model_selection import train_test_split\n",
    "import torchvision.transforms as transforms \n",
    "from sklearn.metrics import confusion_matrix, classification_report"
   ]
  },
  {
   "cell_type": "markdown",
   "id": "7cbd0eb6",
   "metadata": {},
   "source": [
    "### Loading Data\n",
    "##### The dataset will be downloaded from the source code obtained from https://github.com/liyxi/mnist-m/blob/main/mnist_m.py\n",
    "##### It contains a raw and a processed folder which contains the training and test sets. Both these files are in .pt format."
   ]
  },
  {
   "cell_type": "code",
   "execution_count": 2,
   "id": "a5208d74",
   "metadata": {},
   "outputs": [],
   "source": [
    "class MNISTM(VisionDataset):\n",
    "    \"\"\"MNIST-M Dataset.\n",
    "    \"\"\"\n",
    "\n",
    "    resources = [\n",
    "        ('https://github.com/liyxi/mnist-m/releases/download/data/mnist_m_train.pt.tar.gz',\n",
    "         '191ed53db9933bd85cc9700558847391'),\n",
    "        ('https://github.com/liyxi/mnist-m/releases/download/data/mnist_m_test.pt.tar.gz',\n",
    "         'e11cb4d7fff76d7ec588b1134907db59')\n",
    "    ]\n",
    "\n",
    "    training_file = \"mnist_m_train.pt\"\n",
    "    test_file = \"mnist_m_test.pt\"\n",
    "    classes = ['0 - zero', '1 - one', '2 - two', '3 - three', '4 - four',\n",
    "               '5 - five', '6 - six', '7 - seven', '8 - eight', '9 - nine']\n",
    "\n",
    "    @property\n",
    "    def train_labels(self):\n",
    "        warnings.warn(\"train_labels has been renamed targets\")\n",
    "        return self.targets\n",
    "\n",
    "    @property\n",
    "    def test_labels(self):\n",
    "        warnings.warn(\"test_labels has been renamed targets\")\n",
    "        return self.targets\n",
    "\n",
    "    @property\n",
    "    def train_data(self):\n",
    "        warnings.warn(\"train_data has been renamed data\")\n",
    "        return self.data\n",
    "\n",
    "    @property\n",
    "    def test_data(self):\n",
    "        warnings.warn(\"test_data has been renamed data\")\n",
    "        return self.data\n",
    "\n",
    "    def __init__(self, root, train=True, transform=None, target_transform=None, download=False):\n",
    "        \"\"\"Init MNIST-M dataset.\"\"\"\n",
    "        super(MNISTM, self).__init__(root, transform=transform, target_transform=target_transform)\n",
    "\n",
    "        self.train = train\n",
    "\n",
    "        if download:\n",
    "            self.download()\n",
    "\n",
    "        if not self._check_exists():\n",
    "            raise RuntimeError(\"Dataset not found.\" +\n",
    "                               \" You can use download=True to download it\")\n",
    "\n",
    "        if self.train:\n",
    "            data_file = self.training_file\n",
    "        else:\n",
    "            data_file = self.test_file\n",
    "\n",
    "        print(os.path.join(self.processed_folder, data_file))\n",
    "\n",
    "        self.data, self.targets = torch.load(os.path.join(self.processed_folder, data_file))\n",
    "\n",
    "    def __getitem__(self, index):\n",
    "        \"\"\"Get images and target for data loader.\n",
    "        Args:\n",
    "            index (int): Index\n",
    "        Returns:\n",
    "            tuple: (image, target) where target is index of the target class.\n",
    "        \"\"\"\n",
    "        img, target = self.data[index], int(self.targets[index])\n",
    "\n",
    "        # doing this so that it is consistent with all other datasets\n",
    "        # to return a PIL Image\n",
    "        img = Image.fromarray(img.squeeze().numpy(), mode=\"L\")\n",
    "\n",
    "        if self.transform is not None:\n",
    "            img = self.transform(img)\n",
    "\n",
    "        if self.target_transform is not None:\n",
    "            target = self.target_transform(target)\n",
    "\n",
    "        return img, target\n",
    "\n",
    "    def __len__(self):\n",
    "        \"\"\"Return size of dataset.\"\"\"\n",
    "        return len(self.data)\n",
    "\n",
    "    @property\n",
    "    def raw_folder(self):\n",
    "        return os.path.join(self.root, self.__class__.__name__, 'raw')\n",
    "\n",
    "    @property\n",
    "    def processed_folder(self):\n",
    "        return os.path.join(self.root, self.__class__.__name__, 'processed')\n",
    "\n",
    "    @property\n",
    "    def class_to_idx(self):\n",
    "        return {_class: i for i, _class in enumerate(self.classes)}\n",
    "\n",
    "    def _check_exists(self):\n",
    "        return (os.path.exists(os.path.join(self.processed_folder, self.training_file)) and\n",
    "                os.path.exists(os.path.join(self.processed_folder, self.test_file)))\n",
    "\n",
    "    def download(self):\n",
    "        \"\"\"Download the MNIST-M data.\"\"\"\n",
    "\n",
    "        if self._check_exists():\n",
    "            return\n",
    "\n",
    "        os.makedirs(self.raw_folder, exist_ok=True)\n",
    "        os.makedirs(self.processed_folder, exist_ok=True)\n",
    "\n",
    "        # download files\n",
    "        for url, md5 in self.resources:\n",
    "            filename = url.rpartition('/')[2]\n",
    "            download_and_extract_archive(url, download_root=self.raw_folder,\n",
    "                                         extract_root=self.processed_folder,\n",
    "                                         filename=filename, md5=md5)\n",
    "\n",
    "        print('Done!')\n",
    "\n",
    "    def extra_repr(self):\n",
    "        return \"Split: {}\".format(\"Train\" if self.train is True else \"Test\")"
   ]
  },
  {
   "cell_type": "markdown",
   "id": "8578e3ff",
   "metadata": {},
   "source": [
    "##### After running the above source code where we defined a class named as MNISTM which will be used for downloading the datasets. Let us load the training and test dataset using the above defined procedure"
   ]
  },
  {
   "cell_type": "code",
   "execution_count": 3,
   "id": "b3b315c4",
   "metadata": {},
   "outputs": [
    {
     "name": "stdout",
     "output_type": "stream",
     "text": [
      "C:\\Users\\KIT\\OneDrive\\Documents\\MNISTM\\processed\\mnist_m_train.pt\n"
     ]
    }
   ],
   "source": [
    "train = MNISTM(r'C:\\Users\\KIT\\OneDrive\\Documents',train = True,transform= torchvision.transforms.ToTensor(), target_transform = torchvision.transforms.Grayscale(num_output_channels=1), download=True)"
   ]
  },
  {
   "cell_type": "markdown",
   "id": "e8c57df3",
   "metadata": {},
   "source": [
    "##### The imported train and test dataset is having the data type as uint8 and in the form of a tensor. So we are having the images with 3 channels (red, green and blue). The train.pt and test.pt were imported using torch.load() as:"
   ]
  },
  {
   "cell_type": "code",
   "execution_count": 10,
   "id": "25e3d7f0",
   "metadata": {},
   "outputs": [],
   "source": [
    "trainset = torch.load(r'C:\\Users\\KIT\\OneDrive\\Documents\\MNISTM\\processed\\mnist_m_train.pt')"
   ]
  },
  {
   "cell_type": "code",
   "execution_count": 11,
   "id": "c616c788",
   "metadata": {},
   "outputs": [
    {
     "data": {
      "text/plain": [
       "(tensor([[[[ 60,  77, 133],\n",
       "           [ 61,  78, 134],\n",
       "           [ 62,  79, 135],\n",
       "           ...,\n",
       "           [ 57,  76, 132],\n",
       "           [ 57,  76, 132],\n",
       "           [ 57,  77, 130]],\n",
       " \n",
       "          [[ 60,  77, 133],\n",
       "           [ 61,  78, 134],\n",
       "           [ 61,  78, 134],\n",
       "           ...,\n",
       "           [ 57,  76, 132],\n",
       "           [ 57,  76, 132],\n",
       "           [ 57,  76, 132]],\n",
       " \n",
       "          [[ 61,  78, 134],\n",
       "           [ 61,  78, 134],\n",
       "           [ 61,  78, 134],\n",
       "           ...,\n",
       "           [ 56,  75, 131],\n",
       "           [ 56,  75, 131],\n",
       "           [ 57,  76, 132]],\n",
       " \n",
       "          ...,\n",
       " \n",
       "          [[ 57,  76, 134],\n",
       "           [ 57,  77, 130],\n",
       "           [ 57,  77, 130],\n",
       "           ...,\n",
       "           [  6,  34,  35],\n",
       "           [  6,  35,  33],\n",
       "           [  7,  36,  32]],\n",
       " \n",
       "          [[ 58,  77, 135],\n",
       "           [ 58,  77, 133],\n",
       "           [ 57,  77, 130],\n",
       "           ...,\n",
       "           [  9,  37,  38],\n",
       "           [  8,  37,  35],\n",
       "           [  8,  37,  35]],\n",
       " \n",
       "          [[ 57,  73, 133],\n",
       "           [ 62,  78, 137],\n",
       "           [ 58,  75, 131],\n",
       "           ...,\n",
       "           [  8,  37,  33],\n",
       "           [  8,  37,  35],\n",
       "           [  8,  37,  35]]],\n",
       " \n",
       " \n",
       "         [[[255, 208, 153],\n",
       "           [255, 207, 151],\n",
       "           [255, 205, 150],\n",
       "           ...,\n",
       "           [255, 205, 144],\n",
       "           [255, 206, 145],\n",
       "           [253, 203, 142]],\n",
       " \n",
       "          [[255, 208, 152],\n",
       "           [253, 206, 150],\n",
       "           [253, 206, 150],\n",
       "           ...,\n",
       "           [255, 206, 143],\n",
       "           [255, 207, 144],\n",
       "           [253, 205, 143]],\n",
       " \n",
       "          [[255, 206, 150],\n",
       "           [253, 206, 150],\n",
       "           [254, 207, 151],\n",
       "           ...,\n",
       "           [253, 197, 136],\n",
       "           [250, 199, 136],\n",
       "           [254, 206, 144]],\n",
       " \n",
       "          ...,\n",
       " \n",
       "          [[255, 198, 144],\n",
       "           [255, 193, 141],\n",
       "           [255, 191, 139],\n",
       "           ...,\n",
       "           [255, 199, 148],\n",
       "           [253, 197, 146],\n",
       "           [255, 199, 150]],\n",
       " \n",
       "          [[255, 207, 150],\n",
       "           [255, 205, 148],\n",
       "           [253, 202, 145],\n",
       "           ...,\n",
       "           [255, 203, 151],\n",
       "           [250, 197, 145],\n",
       "           [251, 198, 146]],\n",
       " \n",
       "          [[255, 205, 148],\n",
       "           [255, 208, 150],\n",
       "           [255, 207, 149],\n",
       "           ...,\n",
       "           [255, 202, 150],\n",
       "           [255, 202, 150],\n",
       "           [255, 202, 150]]],\n",
       " \n",
       " \n",
       "         [[[ 68,  56,  42],\n",
       "           [116,  99,  83],\n",
       "           [155, 137, 117],\n",
       "           ...,\n",
       "           [239, 214,  88],\n",
       "           [238, 213,  86],\n",
       "           [240, 213,  82]],\n",
       " \n",
       "          [[111, 103,  90],\n",
       "           [ 87,  75,  59],\n",
       "           [ 95,  80,  61],\n",
       "           ...,\n",
       "           [231, 204,  91],\n",
       "           [233, 204,  87],\n",
       "           [233, 203,  81]],\n",
       " \n",
       "          [[118, 115, 106],\n",
       "           [108, 102,  90],\n",
       "           [ 79,  72,  56],\n",
       "           ...,\n",
       "           [235, 209, 112],\n",
       "           [221, 194,  89],\n",
       "           [222, 192,  80]],\n",
       " \n",
       "          ...,\n",
       " \n",
       "          [[ 60,  60,  60],\n",
       "           [ 60,  57,  52],\n",
       "           [ 59,  52,  44],\n",
       "           ...,\n",
       "           [ 91,  78,  46],\n",
       "           [120,  97,  55],\n",
       "           [159, 130,  72]],\n",
       " \n",
       "          [[ 63,  62,  60],\n",
       "           [ 59,  54,  50],\n",
       "           [ 57,  50,  42],\n",
       "           ...,\n",
       "           [115,  92,  58],\n",
       "           [140, 109,  63],\n",
       "           [164, 133,  68]],\n",
       " \n",
       "          [[ 68,  63,  59],\n",
       "           [ 62,  55,  49],\n",
       "           [ 62,  51,  45],\n",
       "           ...,\n",
       "           [113,  89,  51],\n",
       "           [137, 107,  55],\n",
       "           [171, 141,  71]]],\n",
       " \n",
       " \n",
       "         ...,\n",
       " \n",
       " \n",
       "         [[[ 86,  82,  45],\n",
       "           [ 87,  84,  49],\n",
       "           [255, 255, 227],\n",
       "           ...,\n",
       "           [136, 119,  89],\n",
       "           [133, 117,  83],\n",
       "           [129, 113,  79]],\n",
       " \n",
       "          [[168, 162, 126],\n",
       "           [157, 153, 118],\n",
       "           [255, 255, 227],\n",
       "           ...,\n",
       "           [117, 100,  72],\n",
       "           [118, 101,  71],\n",
       "           [135, 119,  86]],\n",
       " \n",
       "          [[171, 162, 129],\n",
       "           [171, 165, 133],\n",
       "           [167, 160, 132],\n",
       "           ...,\n",
       "           [139, 124,  95],\n",
       "           [150, 133, 105],\n",
       "           [142, 125,  97]],\n",
       " \n",
       "          ...,\n",
       " \n",
       "          [[178, 161, 118],\n",
       "           [180, 158, 117],\n",
       "           [180, 155, 115],\n",
       "           ...,\n",
       "           [158, 111,  81],\n",
       "           [160, 117,  85],\n",
       "           [180, 139, 107]],\n",
       " \n",
       "          [[156, 141, 100],\n",
       "           [175, 153, 112],\n",
       "           [190, 162, 123],\n",
       "           ...,\n",
       "           [201, 152, 122],\n",
       "           [184, 141, 109],\n",
       "           [186, 145, 113]],\n",
       " \n",
       "          [[162, 147, 104],\n",
       "           [167, 145, 104],\n",
       "           [178, 150, 111],\n",
       "           ...,\n",
       "           [207, 160, 132],\n",
       "           [204, 159, 130],\n",
       "           [207, 164, 132]]],\n",
       " \n",
       " \n",
       "         [[[168, 140, 116],\n",
       "           [149, 123,  98],\n",
       "           [156, 130, 105],\n",
       "           ...,\n",
       "           [163, 137, 110],\n",
       "           [132, 104,  80],\n",
       "           [158, 132, 107]],\n",
       " \n",
       "          [[164, 136, 112],\n",
       "           [143, 115,  91],\n",
       "           [157, 129, 105],\n",
       "           ...,\n",
       "           [162, 136, 109],\n",
       "           [135, 109,  82],\n",
       "           [157, 131, 106]],\n",
       " \n",
       "          [[158, 128, 104],\n",
       "           [150, 120,  96],\n",
       "           [148, 120,  96],\n",
       "           ...,\n",
       "           [150, 126,  98],\n",
       "           [156, 132, 104],\n",
       "           [165, 141, 113]],\n",
       " \n",
       "          ...,\n",
       " \n",
       "          [[168, 143, 123],\n",
       "           [138, 113,  93],\n",
       "           [145, 120, 100],\n",
       "           ...,\n",
       "           [146, 120,  97],\n",
       "           [152, 124, 102],\n",
       "           [133, 107,  84]],\n",
       " \n",
       "          [[174, 149, 129],\n",
       "           [134, 109,  89],\n",
       "           [141, 116,  96],\n",
       "           ...,\n",
       "           [124,  98,  75],\n",
       "           [153, 122, 101],\n",
       "           [148, 120,  98]],\n",
       " \n",
       "          [[170, 145, 125],\n",
       "           [129, 104,  84],\n",
       "           [126, 101,  81],\n",
       "           ...,\n",
       "           [130, 103,  82],\n",
       "           [169, 139, 115],\n",
       "           [168, 140, 118]]],\n",
       " \n",
       " \n",
       "         [[[ 46,  55,  50],\n",
       "           [ 46,  55,  50],\n",
       "           [ 52,  61,  56],\n",
       "           ...,\n",
       "           [ 36,  45,  44],\n",
       "           [ 36,  46,  47],\n",
       "           [ 36,  46,  45]],\n",
       " \n",
       "          [[ 42,  46,  45],\n",
       "           [ 46,  50,  49],\n",
       "           [ 50,  54,  53],\n",
       "           ...,\n",
       "           [ 36,  45,  42],\n",
       "           [ 35,  44,  43],\n",
       "           [ 35,  44,  41]],\n",
       " \n",
       "          [[ 50,  56,  56],\n",
       "           [ 40,  46,  44],\n",
       "           [ 42,  48,  46],\n",
       "           ...,\n",
       "           [ 37,  46,  43],\n",
       "           [ 37,  46,  43],\n",
       "           [ 37,  46,  43]],\n",
       " \n",
       "          ...,\n",
       " \n",
       "          [[ 66, 101, 107],\n",
       "           [ 70, 105, 111],\n",
       "           [ 74, 107, 114],\n",
       "           ...,\n",
       "           [ 71, 107, 105],\n",
       "           [ 72, 106, 107],\n",
       "           [ 71, 105, 106]],\n",
       " \n",
       "          [[ 60,  95, 101],\n",
       "           [ 64,  99, 105],\n",
       "           [ 68, 101, 108],\n",
       "           ...,\n",
       "           [ 69, 105, 103],\n",
       "           [ 70, 104, 105],\n",
       "           [ 69, 103, 104]],\n",
       " \n",
       "          [[ 56,  93, 101],\n",
       "           [ 59,  96, 104],\n",
       "           [ 65, 100, 106],\n",
       "           ...,\n",
       "           [ 68, 104, 104],\n",
       "           [ 69, 103, 104],\n",
       "           [ 69, 103, 104]]]], dtype=torch.uint8),\n",
       " tensor([5, 0, 4,  ..., 5, 6, 8]))"
      ]
     },
     "execution_count": 11,
     "metadata": {},
     "output_type": "execute_result"
    }
   ],
   "source": [
    "trainset"
   ]
  },
  {
   "cell_type": "code",
   "execution_count": 6,
   "id": "5d1a79e4",
   "metadata": {},
   "outputs": [
    {
     "name": "stdout",
     "output_type": "stream",
     "text": [
      "C:\\Users\\KIT\\OneDrive\\Documents\\MNISTM\\processed\\mnist_m_test.pt\n"
     ]
    }
   ],
   "source": [
    "test = MNISTM(r'C:\\Users\\KIT\\OneDrive\\Documents',train = False,transform= torchvision.transforms.Grayscale(num_output_channels=1), target_transform = torchvision.transforms.ToTensor(), download=True)"
   ]
  },
  {
   "cell_type": "code",
   "execution_count": 9,
   "id": "0f17b0f6",
   "metadata": {},
   "outputs": [],
   "source": [
    "testset =torch.load(r'C:\\Users\\KIT\\OneDrive\\Documents\\MNISTM\\processed\\mnist_m_test.pt')"
   ]
  },
  {
   "cell_type": "code",
   "execution_count": 12,
   "id": "adbdee48",
   "metadata": {},
   "outputs": [
    {
     "data": {
      "text/plain": [
       "(tensor([[[[ 63,  78, 133],\n",
       "           [ 59,  76, 132],\n",
       "           [ 65,  81, 140],\n",
       "           ...,\n",
       "           [ 15,  40,  45],\n",
       "           [  8,  37,  35],\n",
       "           [  8,  37,  35]],\n",
       " \n",
       "          [[ 62,  79, 135],\n",
       "           [ 61,  80, 136],\n",
       "           [ 61,  80, 138],\n",
       "           ...,\n",
       "           [ 11,  35,  45],\n",
       "           [  9,  34,  38],\n",
       "           [ 12,  41,  39]],\n",
       " \n",
       "          [[ 61,  78, 132],\n",
       "           [ 63,  82, 138],\n",
       "           [ 56,  75, 131],\n",
       "           ...,\n",
       "           [ 13,  36,  54],\n",
       "           [ 10,  35,  42],\n",
       "           [  9,  37,  38]],\n",
       " \n",
       "          ...,\n",
       " \n",
       "          [[ 73,  86, 130],\n",
       "           [ 70,  82, 130],\n",
       "           [ 66,  78, 128],\n",
       "           ...,\n",
       "           [ 32,  53,  72],\n",
       "           [ 41,  61,  86],\n",
       "           [ 10,  31,  52]],\n",
       " \n",
       "          [[ 62,  75, 119],\n",
       "           [ 47,  60, 105],\n",
       "           [ 44,  56, 104],\n",
       "           ...,\n",
       "           [ 39,  60,  81],\n",
       "           [ 30,  50,  77],\n",
       "           [  7,  27,  52]],\n",
       " \n",
       "          [[ 23,  36,  78],\n",
       "           [ 32,  45,  90],\n",
       "           [ 51,  63, 111],\n",
       "           ...,\n",
       "           [ 20,  41,  62],\n",
       "           [ 37,  57,  84],\n",
       "           [ 28,  49,  76]]],\n",
       " \n",
       " \n",
       "         [[[ 93, 129, 155],\n",
       "           [ 94, 129, 157],\n",
       "           [ 95, 130, 158],\n",
       "           ...,\n",
       "           [ 96, 131, 159],\n",
       "           [ 96, 131, 159],\n",
       "           [ 92, 127, 155]],\n",
       " \n",
       "          [[ 91, 127, 153],\n",
       "           [ 96, 131, 159],\n",
       "           [ 99, 134, 162],\n",
       "           ...,\n",
       "           [ 96, 131, 159],\n",
       "           [ 98, 133, 161],\n",
       "           [ 91, 126, 154]],\n",
       " \n",
       "          [[ 99, 135, 161],\n",
       "           [ 96, 131, 159],\n",
       "           [ 95, 130, 158],\n",
       "           ...,\n",
       "           [ 94, 129, 157],\n",
       "           [ 98, 133, 161],\n",
       "           [ 90, 125, 153]],\n",
       " \n",
       "          ...,\n",
       " \n",
       "          [[104, 139, 161],\n",
       "           [105, 139, 164],\n",
       "           [109, 143, 168],\n",
       "           ...,\n",
       "           [110, 144, 169],\n",
       "           [108, 142, 167],\n",
       "           [106, 140, 165]],\n",
       " \n",
       "          [[105, 140, 162],\n",
       "           [106, 140, 165],\n",
       "           [109, 143, 168],\n",
       "           ...,\n",
       "           [105, 139, 164],\n",
       "           [106, 140, 165],\n",
       "           [105, 139, 164]],\n",
       " \n",
       "          [[108, 143, 165],\n",
       "           [109, 144, 166],\n",
       "           [108, 143, 165],\n",
       "           ...,\n",
       "           [101, 137, 159],\n",
       "           [107, 143, 165],\n",
       "           [109, 144, 166]]],\n",
       " \n",
       " \n",
       "         [[[253, 249, 211],\n",
       "           [252, 250, 209],\n",
       "           [255, 253, 211],\n",
       "           ...,\n",
       "           [136, 117, 103],\n",
       "           [125, 107,  93],\n",
       "           [ 72,  58,  45]],\n",
       " \n",
       "          [[255, 255, 220],\n",
       "           [255, 255, 217],\n",
       "           [255, 249, 210],\n",
       "           ...,\n",
       "           [132, 116, 103],\n",
       "           [124, 112,  98],\n",
       "           [100,  92,  79]],\n",
       " \n",
       "          [[255, 250, 217],\n",
       "           [255, 251, 215],\n",
       "           [255, 251, 215],\n",
       "           ...,\n",
       "           [138, 122, 107],\n",
       "           [131, 122, 107],\n",
       "           [110, 104,  90]],\n",
       " \n",
       "          ...,\n",
       " \n",
       "          [[107, 101,  79],\n",
       "           [106, 100,  76],\n",
       "           [ 84,  78,  54],\n",
       "           ...,\n",
       "           [113,  73,  47],\n",
       "           [108,  72,  46],\n",
       "           [107,  70,  44]],\n",
       " \n",
       "          [[105,  99,  77],\n",
       "           [116, 110,  88],\n",
       "           [ 94,  88,  66],\n",
       "           ...,\n",
       "           [108,  73,  45],\n",
       "           [100,  66,  39],\n",
       "           [101,  65,  39]],\n",
       " \n",
       "          [[ 97,  92,  72],\n",
       "           [107, 102,  82],\n",
       "           [105,  98,  79],\n",
       "           ...,\n",
       "           [ 98,  67,  39],\n",
       "           [102,  70,  45],\n",
       "           [106,  72,  47]]],\n",
       " \n",
       " \n",
       "         ...,\n",
       " \n",
       " \n",
       "         [[[130, 144,  91],\n",
       "           [130, 144,  91],\n",
       "           [130, 144,  91],\n",
       "           ...,\n",
       "           [129, 142,  89],\n",
       "           [128, 141,  88],\n",
       "           [128, 141,  88]],\n",
       " \n",
       "          [[131, 145,  92],\n",
       "           [131, 145,  92],\n",
       "           [132, 146,  93],\n",
       "           ...,\n",
       "           [131, 144,  91],\n",
       "           [130, 143,  90],\n",
       "           [128, 141,  88]],\n",
       " \n",
       "          [[131, 145,  92],\n",
       "           [132, 146,  93],\n",
       "           [134, 148,  95],\n",
       "           ...,\n",
       "           [129, 142,  89],\n",
       "           [129, 142,  89],\n",
       "           [130, 143,  90]],\n",
       " \n",
       "          ...,\n",
       " \n",
       "          [[144, 124,  99],\n",
       "           [142, 122,  95],\n",
       "           [154, 139, 110],\n",
       "           ...,\n",
       "           [132, 144,  94],\n",
       "           [132, 144,  94],\n",
       "           [134, 146,  96]],\n",
       " \n",
       "          [[138, 116,  92],\n",
       "           [146, 126,  99],\n",
       "           [157, 140, 112],\n",
       "           ...,\n",
       "           [134, 146,  96],\n",
       "           [133, 145,  95],\n",
       "           [134, 146,  96]],\n",
       " \n",
       "          [[125, 105,  78],\n",
       "           [134, 114,  87],\n",
       "           [156, 139, 111],\n",
       "           ...,\n",
       "           [134, 146,  96],\n",
       "           [134, 146,  96],\n",
       "           [133, 145,  95]]],\n",
       " \n",
       " \n",
       "         [[[104,  66,  65],\n",
       "           [ 89,  51,  50],\n",
       "           [ 75,  37,  36],\n",
       "           ...,\n",
       "           [ 96,  48,  46],\n",
       "           [ 96,  48,  48],\n",
       "           [ 93,  47,  47]],\n",
       " \n",
       "          [[ 78,  38,  36],\n",
       "           [ 75,  35,  33],\n",
       "           [ 75,  35,  33],\n",
       "           ...,\n",
       "           [ 96,  50,  50],\n",
       "           [ 97,  51,  51],\n",
       "           [ 98,  54,  53]],\n",
       " \n",
       "          [[ 88,  47,  45],\n",
       "           [ 90,  46,  45],\n",
       "           [ 91,  47,  46],\n",
       "           ...,\n",
       "           [ 94,  50,  49],\n",
       "           [ 94,  50,  49],\n",
       "           [ 92,  51,  49]],\n",
       " \n",
       "          ...,\n",
       " \n",
       "          [[ 94,  50,  49],\n",
       "           [ 95,  51,  50],\n",
       "           [ 95,  51,  50],\n",
       "           ...,\n",
       "           [100,  56,  55],\n",
       "           [ 95,  54,  52],\n",
       "           [ 90,  49,  47]],\n",
       " \n",
       "          [[ 95,  51,  50],\n",
       "           [ 95,  51,  50],\n",
       "           [ 96,  50,  50],\n",
       "           ...,\n",
       "           [ 82,  38,  37],\n",
       "           [ 76,  35,  33],\n",
       "           [ 78,  37,  35]],\n",
       " \n",
       "          [[ 99,  53,  53],\n",
       "           [ 99,  53,  53],\n",
       "           [100,  52,  52],\n",
       "           ...,\n",
       "           [ 81,  40,  38],\n",
       "           [ 85,  44,  42],\n",
       "           [ 86,  45,  43]]],\n",
       " \n",
       " \n",
       "         [[[ 74,  41,  22],\n",
       "           [ 79,  45,  20],\n",
       "           [ 79,  43,  17],\n",
       "           ...,\n",
       "           [140,  77,  26],\n",
       "           [110,  52,   6],\n",
       "           [ 99,  46,   4]],\n",
       " \n",
       "          [[ 84,  37,   9],\n",
       "           [ 93,  44,  11],\n",
       "           [ 99,  50,  10],\n",
       "           ...,\n",
       "           [103,  49,   5],\n",
       "           [ 79,  27,   0],\n",
       "           [ 81,  33,   0]],\n",
       " \n",
       "          [[141,  70,  24],\n",
       "           [149,  79,  27],\n",
       "           [157,  86,  30],\n",
       "           ...,\n",
       "           [ 80,  30,   0],\n",
       "           [ 74,  27,   0],\n",
       "           [ 91,  44,  14]],\n",
       " \n",
       "          ...,\n",
       " \n",
       "          [[ 39,  14,   9],\n",
       "           [ 53,  21,   8],\n",
       "           [ 54,  23,   5],\n",
       "           ...,\n",
       "           [ 50,  22,   0],\n",
       "           [ 52,  28,   2],\n",
       "           [ 57,  36,   5]],\n",
       " \n",
       "          [[ 34,  17,  10],\n",
       "           [ 44,  24,  13],\n",
       "           [ 52,  32,  21],\n",
       "           ...,\n",
       "           [ 54,  28,   5],\n",
       "           [ 53,  27,   4],\n",
       "           [ 60,  36,   8]],\n",
       " \n",
       "          [[ 33,  20,  14],\n",
       "           [ 45,  32,  24],\n",
       "           [ 56,  45,  39],\n",
       "           ...,\n",
       "           [ 52,  25,   6],\n",
       "           [ 51,  24,   3],\n",
       "           [ 62,  36,  11]]]], dtype=torch.uint8),\n",
       " tensor([7, 2, 1,  ..., 4, 5, 6]))"
      ]
     },
     "execution_count": 12,
     "metadata": {},
     "output_type": "execute_result"
    }
   ],
   "source": [
    "testset"
   ]
  },
  {
   "cell_type": "markdown",
   "id": "8e36fc02",
   "metadata": {},
   "source": [
    "### Data Preperation\n",
    "##### Convert train and test file into independent x_train, x_test and dependent labels x_test, y_test "
   ]
  },
  {
   "cell_type": "code",
   "execution_count": 17,
   "id": "57629836",
   "metadata": {},
   "outputs": [],
   "source": [
    "x_train, y_train = trainset"
   ]
  },
  {
   "cell_type": "code",
   "execution_count": 18,
   "id": "7aa7921c",
   "metadata": {},
   "outputs": [],
   "source": [
    "x_test, y_test = testset"
   ]
  },
  {
   "cell_type": "markdown",
   "id": "54d62b23",
   "metadata": {},
   "source": [
    "#### Let us visualize the label output variable and check if they are balanced or imbalanced. Also before that convert the data fetaures including labels into np array"
   ]
  },
  {
   "cell_type": "code",
   "execution_count": 20,
   "id": "521a457b",
   "metadata": {},
   "outputs": [],
   "source": [
    "y_train = np.array(y_train)\n",
    "x_train = np.array(x_train)\n",
    "x_test = np.array(x_test)\n",
    "y_test = np.array(y_test)"
   ]
  },
  {
   "cell_type": "code",
   "execution_count": 21,
   "id": "290dda84",
   "metadata": {},
   "outputs": [
    {
     "data": {
      "text/plain": [
       "<AxesSubplot:ylabel='count'>"
      ]
     },
     "execution_count": 21,
     "metadata": {},
     "output_type": "execute_result"
    },
    {
     "data": {
      "image/png": "[encoded data removed]",
      "text/plain": [
       "<Figure size 1000x800 with 1 Axes>"
      ]
     },
     "metadata": {},
     "output_type": "display_data"
    }
   ],
   "source": [
    "import seaborn as sns\n",
    "plt.figure(figsize = (10,8))\n",
    "sns.countplot(y_train)"
   ]
  },
  {
   "cell_type": "code",
   "execution_count": 22,
   "id": "df648286",
   "metadata": {},
   "outputs": [
    {
     "name": "stderr",
     "output_type": "stream",
     "text": [
      "C:\\Users\\KIT\\anaconda3\\lib\\site-packages\\seaborn\\_decorators.py:36: FutureWarning: Pass the following variable as a keyword arg: x. From version 0.12, the only valid positional argument will be `data`, and passing other arguments without an explicit keyword will result in an error or misinterpretation.\n",
      "  warnings.warn(\n"
     ]
    },
    {
     "data": {
      "text/plain": [
       "<AxesSubplot:ylabel='count'>"
      ]
     },
     "execution_count": 22,
     "metadata": {},
     "output_type": "execute_result"
    },
    {
     "data": {
      "image/png": "[encoded data removed]",
      "text/plain": [
       "<Figure size 1000x800 with 1 Axes>"
      ]
     },
     "metadata": {},
     "output_type": "display_data"
    }
   ],
   "source": [
    "plt.figure(figsize = (10,8))\n",
    "sns.countplot(y_test)"
   ]
  },
  {
   "cell_type": "markdown",
   "id": "42e32c7d",
   "metadata": {},
   "source": [
    "#### Check for missing values"
   ]
  },
  {
   "cell_type": "code",
   "execution_count": 23,
   "id": "1b0a8855",
   "metadata": {},
   "outputs": [
    {
     "data": {
      "text/plain": [
       "0"
      ]
     },
     "execution_count": 23,
     "metadata": {},
     "output_type": "execute_result"
    }
   ],
   "source": [
    "np.isnan(x_train).sum()"
   ]
  },
  {
   "cell_type": "code",
   "execution_count": 24,
   "id": "d26ccb9b",
   "metadata": {},
   "outputs": [
    {
     "data": {
      "text/plain": [
       "0"
      ]
     },
     "execution_count": 24,
     "metadata": {},
     "output_type": "execute_result"
    }
   ],
   "source": [
    "np.isnan(y_train).sum()"
   ]
  },
  {
   "cell_type": "code",
   "execution_count": 25,
   "id": "1db17cdc",
   "metadata": {},
   "outputs": [
    {
     "data": {
      "text/plain": [
       "0"
      ]
     },
     "execution_count": 25,
     "metadata": {},
     "output_type": "execute_result"
    }
   ],
   "source": [
    "np.isnan(x_test).sum()"
   ]
  },
  {
   "cell_type": "code",
   "execution_count": 26,
   "id": "bd907f8f",
   "metadata": {},
   "outputs": [
    {
     "data": {
      "text/plain": [
       "0"
      ]
     },
     "execution_count": 26,
     "metadata": {},
     "output_type": "execute_result"
    }
   ],
   "source": [
    "np.isnan(y_test).sum()"
   ]
  },
  {
   "cell_type": "markdown",
   "id": "8b2cc1c4",
   "metadata": {},
   "source": [
    "##### There are no missing values in the feature and label columns"
   ]
  },
  {
   "cell_type": "markdown",
   "id": "7c124006",
   "metadata": {},
   "source": [
    "#### Shape of the data"
   ]
  },
  {
   "cell_type": "code",
   "execution_count": 27,
   "id": "b9e8bdcf",
   "metadata": {},
   "outputs": [
    {
     "data": {
      "text/plain": [
       "(60000, 28, 28, 3)"
      ]
     },
     "execution_count": 27,
     "metadata": {},
     "output_type": "execute_result"
    }
   ],
   "source": [
    "x_train.shape"
   ]
  },
  {
   "cell_type": "code",
   "execution_count": 28,
   "id": "aaadf360",
   "metadata": {},
   "outputs": [
    {
     "data": {
      "text/plain": [
       "(10000, 28, 28, 3)"
      ]
     },
     "execution_count": 28,
     "metadata": {},
     "output_type": "execute_result"
    }
   ],
   "source": [
    "x_test.shape"
   ]
  },
  {
   "cell_type": "markdown",
   "id": "28f58027",
   "metadata": {},
   "source": [
    "#### The shape of x_train is (60000, 28, 28, 3). Each image has 28 x 28 resolution with 3 channels of RGB. The shape of x_test is (10000, 28, 28, 3). The input shape that a CNN accepts should be in a specific format. If you are using Tensorflow, the format should be (batch, height, width, channels)."
   ]
  },
  {
   "cell_type": "markdown",
   "id": "e075f01b",
   "metadata": {},
   "source": [
    "### Visualize the classes of the MNISTM dataset class labels"
   ]
  },
  {
   "cell_type": "code",
   "execution_count": 29,
   "id": "7e2fcfcb",
   "metadata": {},
   "outputs": [
    {
     "data": {
      "image/png": "[encoded data removed]",
      "text/plain": [
       "<Figure size 640x480 with 9 Axes>"
      ]
     },
     "metadata": {},
     "output_type": "display_data"
    }
   ],
   "source": [
    "for i in range(9):\n",
    "\tplt.subplot(330 + 1 + i)\n",
    "\tplt.imshow(x_train[i], cmap=plt.get_cmap('gray'))\n",
    "plt.show()"
   ]
  },
  {
   "cell_type": "markdown",
   "id": "35093da7",
   "metadata": {},
   "source": [
    "### One Hot Encoding"
   ]
  },
  {
   "cell_type": "markdown",
   "id": "f4588f19",
   "metadata": {},
   "source": [
    "##### Now, we need to one-hot encode the labels i.e. Y_train and Y_test. In one-hot encoding an integer is converted to an array which contains only one ‘1’ and the rest elements are ‘0’."
   ]
  },
  {
   "cell_type": "code",
   "execution_count": 30,
   "id": "c27257f7",
   "metadata": {},
   "outputs": [],
   "source": [
    "y_train = to_categorical(y_train)\n",
    "y_test = to_categorical(y_test)"
   ]
  },
  {
   "cell_type": "markdown",
   "id": "7079221f",
   "metadata": {},
   "source": [
    "### Normalization"
   ]
  },
  {
   "cell_type": "markdown",
   "id": "ee9cf828",
   "metadata": {},
   "source": [
    "##### Here we’ve rescaled the image data so that each pixel lies in the interval [0, 1] instead of [0, 255]. It is always a good idea to normalize the input so that each dimension has approximately the same scale."
   ]
  },
  {
   "cell_type": "code",
   "execution_count": 34,
   "id": "b3107065",
   "metadata": {},
   "outputs": [],
   "source": [
    "x_train = tf.cast(x_train, 'float32')\n",
    "x_test = tf.cast(x_test, 'float32')"
   ]
  },
  {
   "cell_type": "code",
   "execution_count": 35,
   "id": "a040a930",
   "metadata": {},
   "outputs": [],
   "source": [
    "x_train/=255\n",
    "x_test/=255"
   ]
  },
  {
   "cell_type": "code",
   "execution_count": 39,
   "id": "952cfe34",
   "metadata": {},
   "outputs": [],
   "source": [
    "x_train = np.array(x_train)"
   ]
  },
  {
   "cell_type": "markdown",
   "id": "4d5a268b",
   "metadata": {},
   "source": [
    "## Splitting of trainset into train and validation set"
   ]
  },
  {
   "cell_type": "code",
   "execution_count": 41,
   "id": "8ed94bcf",
   "metadata": {},
   "outputs": [],
   "source": [
    "x_train, x_val, y_train, y_val = train_test_split(x_train, y_train, test_size = 0.1, random_state=42)"
   ]
  },
  {
   "cell_type": "markdown",
   "id": "d71a922f",
   "metadata": {},
   "source": [
    "## Model Evaluation"
   ]
  },
  {
   "cell_type": "markdown",
   "id": "09c28d1e",
   "metadata": {},
   "source": [
    "### Let’s create the model that will classify the images\n",
    "\n",
    "#### The general architecture of a convolutional neural network is:\n",
    "\n",
    "###### 1. convolution layers, followed by pooling layers\n",
    "\n",
    "###### 2. fully-connected layers\n",
    "\n",
    "###### 3. a final fully-connected softmax layer\n",
    "#####  The first is the convolutional (Conv2D) layer. The second important layer in CNN is the pooling (MaxPool2D) layer. This layer simply acts as a downsampling filter.  Further, The Flatten layer is use to convert the final feature maps into a one single 1D vector. In the end i used the features in two fully-connected (Dense) layers which is just artificial an neural networks (ANN) classifier. In the last layer(Dense(10,activation=\"softmax\")) the net outputs distribution of probability of each class."
   ]
  },
  {
   "cell_type": "code",
   "execution_count": 42,
   "id": "8f3888ad",
   "metadata": {},
   "outputs": [],
   "source": [
    "model = Sequential()                                 # Linear stacking of layers\n",
    "\n",
    "# Convolution Layer 1\n",
    "model.add(Conv2D(32, (3, 3), input_shape=(28,28,3))) # 32 different 3x3 kernels -- so 32 feature maps\n",
    "model.add(BatchNormalization(axis=-1))               # normalize each feature map before activation\n",
    "convLayer01 = Activation('relu')                     # activation\n",
    "model.add(convLayer01)\n",
    "\n",
    "# Convolution Layer 2\n",
    "model.add(Conv2D(32, (3, 3)))                        # 32 different 3x3 kernels -- so 32 feature maps\n",
    "model.add(BatchNormalization(axis=-1))               # normalize each feature map before activation\n",
    "model.add(Activation('relu'))                        # activation\n",
    "convLayer02 = MaxPooling2D(pool_size=(2,2))          # Pool the max values over a 2x2 kernel\n",
    "model.add(convLayer02)\n",
    "\n",
    "# Convolution Layer 3\n",
    "model.add(Conv2D(64,(3, 3)))                         # 64 different 3x3 kernels -- so 64 feature maps\n",
    "model.add(BatchNormalization(axis=-1))               # normalize each feature map before activation\n",
    "convLayer03 = Activation('relu')                     # activation\n",
    "model.add(convLayer03)\n",
    "\n",
    "# Convolution Layer 4\n",
    "model.add(Conv2D(64, (3, 3)))                        # 64 different 3x3 kernels -- so 64 feature maps\n",
    "model.add(BatchNormalization(axis=-1))               # normalize each feature map before activation\n",
    "model.add(Activation('relu'))                        # activation\n",
    "convLayer04 = MaxPooling2D(pool_size=(2,2))          # Pool the max values over a 2x2 kernel\n",
    "model.add(convLayer04)\n",
    "model.add(Flatten())                                 # Flatten final 4x4x64 output matrix into a 1024-length vector\n",
    "\n",
    "# Fully Connected Layer 5\n",
    "model.add(Dense(512))                                # 512 FCN nodes\n",
    "model.add(BatchNormalization())                      # normalization\n",
    "model.add(Activation('relu'))                        # activation\n",
    "\n",
    "# Fully Connected Layer 6                       \n",
    "model.add(Dropout(0.2))                              # 20% dropout of randomly selected nodes\n",
    "model.add(Dense(10))                                 # final 10 FCN nodes\n",
    "model.add(Activation('softmax'))  "
   ]
  },
  {
   "cell_type": "code",
   "execution_count": 43,
   "id": "b7e3ee73",
   "metadata": {},
   "outputs": [
    {
     "name": "stdout",
     "output_type": "stream",
     "text": [
      "Model: \"sequential\"\n",
      "_________________________________________________________________\n",
      " Layer (type)                Output Shape              Param #   \n",
      "=================================================================\n",
      " conv2d (Conv2D)             (None, 26, 26, 32)        896       \n",
      "                                                                 \n",
      " batch_normalization (BatchN  (None, 26, 26, 32)       128       \n",
      " ormalization)                                                   \n",
      "                                                                 \n",
      " activation (Activation)     (None, 26, 26, 32)        0         \n",
      "                                                                 \n",
      " conv2d_1 (Conv2D)           (None, 24, 24, 32)        9248      \n",
      "                                                                 \n",
      " batch_normalization_1 (Batc  (None, 24, 24, 32)       128       \n",
      " hNormalization)                                                 \n",
      "                                                                 \n",
      " activation_1 (Activation)   (None, 24, 24, 32)        0         \n",
      "                                                                 \n",
      " max_pooling2d (MaxPooling2D  (None, 12, 12, 32)       0         \n",
      " )                                                               \n",
      "                                                                 \n",
      " conv2d_2 (Conv2D)           (None, 10, 10, 64)        18496     \n",
      "                                                                 \n",
      " batch_normalization_2 (Batc  (None, 10, 10, 64)       256       \n",
      " hNormalization)                                                 \n",
      "                                                                 \n",
      " activation_2 (Activation)   (None, 10, 10, 64)        0         \n",
      "                                                                 \n",
      " conv2d_3 (Conv2D)           (None, 8, 8, 64)          36928     \n",
      "                                                                 \n",
      " batch_normalization_3 (Batc  (None, 8, 8, 64)         256       \n",
      " hNormalization)                                                 \n",
      "                                                                 \n",
      " activation_3 (Activation)   (None, 8, 8, 64)          0         \n",
      "                                                                 \n",
      " max_pooling2d_1 (MaxPooling  (None, 4, 4, 64)         0         \n",
      " 2D)                                                             \n",
      "                                                                 \n",
      " flatten (Flatten)           (None, 1024)              0         \n",
      "                                                                 \n",
      " dense (Dense)               (None, 512)               524800    \n",
      "                                                                 \n",
      " batch_normalization_4 (Batc  (None, 512)              2048      \n",
      " hNormalization)                                                 \n",
      "                                                                 \n",
      " activation_4 (Activation)   (None, 512)               0         \n",
      "                                                                 \n",
      " dropout (Dropout)           (None, 512)               0         \n",
      "                                                                 \n",
      " dense_1 (Dense)             (None, 10)                5130      \n",
      "                                                                 \n",
      " activation_5 (Activation)   (None, 10)                0         \n",
      "                                                                 \n",
      "=================================================================\n",
      "Total params: 598,314\n",
      "Trainable params: 596,906\n",
      "Non-trainable params: 1,408\n",
      "_________________________________________________________________\n"
     ]
    }
   ],
   "source": [
    "model.summary()"
   ]
  },
  {
   "cell_type": "markdown",
   "id": "3443b002",
   "metadata": {},
   "source": [
    " Keras allows us to specify the number of filters we want and the size of the filters. So, in our first layer, 32 is number of filters and (3, 3) is the size of the filter. We also need to specify the shape of the input which is (28, 28, 3), but we have to specify it only once.\n",
    "\n",
    "The second layer is the Activation layer. We have used ReLU (rectified linear unit) as our activation function. ReLU function is f(x) = max(0, x), where x is the input. It sets all negative values in the matrix ‘x’ to 0 and keeps all the other values constant. It is the most used activation function since it reduces training time and prevents the problem of vanishing gradients.\n",
    "\n",
    "The third layer is the MaxPooling layer. MaxPooling layer is used to down-sample the input to enable the model to make assumptions about the features so as to reduce over-fitting. It also reduces the number of parameters to learn, reducing the training time.\n",
    "\n",
    "It’s a best practice to always do BatchNormalization. BatchNormalization normalizes the matrix after it is been through a convolution layer so that the scale of each dimension remains the same. It reduces the training time significantly.\n",
    "\n",
    "After creating all the convolutional layers, we need to flatten them, so that they can act as an input to the Dense layers.\n",
    "\n",
    "Dense layers are keras’s alias for Fully connected layers. These layers give the ability to classify the features learned by the CNN.\n",
    "\n",
    "Dropout is the method used to reduce overfitting. It forces the model to learn multiple independent representations of the same data by randomly disabling neurons in the learning phase. In our model, dropout will randomnly disable 20% of the neurons.\n",
    "\n",
    "The second last layer is the Dense layer with 10 neurons. The neurons in this layer should be equal to the number of classes we want to predict as this is the output layer.\n",
    "\n",
    "The last layer is the Softmax Activation layer. Softmax activation enables us to calculate the output based on the probabilities. Each class is assigned a probability and the class with the maximum probability is the model’s output for the input."
   ]
  },
  {
   "cell_type": "markdown",
   "id": "5286e096",
   "metadata": {},
   "source": [
    "### Model Compilation"
   ]
  },
  {
   "cell_type": "code",
   "execution_count": 44,
   "id": "dc2ee8b6",
   "metadata": {},
   "outputs": [],
   "source": [
    "model.compile(loss='categorical_crossentropy', optimizer=Adam(), metrics=['accuracy'])"
   ]
  },
  {
   "cell_type": "markdown",
   "id": "0f900df9",
   "metadata": {},
   "source": [
    "The cross-entropy loss calculates the error rate between the predicted value and the original value. The formula for calculating cross-entropy loss is given here. Categorical is used because there are 10 classes to predict from. If there were 2 classes, we would have used binary_crossentropy.\n",
    "\n",
    "The Adam optimizer is an improvement over SGD(Stochastic Gradient Descent). The optimizer is responsible for updating the weights of the neurons via backpropagation. It calculates the derivative of the loss function with respect to each weight and subtracts it from the weight.\n"
   ]
  },
  {
   "cell_type": "markdown",
   "id": "57b80fc6",
   "metadata": {},
   "source": [
    "### Data Augumentation\n",
    "\n",
    "To reduce over-fitting, we use another technique known as Data Augmentation. Data augmentation rotates, shears, zooms, etc the image so that the model learns to generalize and not remember specific data. If the model overfits, it will perform very well on the images that it already knows but will fail if new images are given to it."
   ]
  },
  {
   "cell_type": "code",
   "execution_count": 46,
   "id": "b67866bd",
   "metadata": {},
   "outputs": [],
   "source": [
    "gen = ImageDataGenerator(rotation_range=8, width_shift_range=0.08, shear_range=0.3,\n",
    "                         height_shift_range=0.08, zoom_range=0.08)"
   ]
  },
  {
   "cell_type": "markdown",
   "id": "e5923fe4",
   "metadata": {},
   "source": [
    "This is how we can do Data Augmentation in Keras. You can play with the values and check if it improves the accuracy of the model.\n",
    "\n",
    "\n",
    "\n",
    "\n",
    "We have to create batches, so that we use less memory. Moreover, we can also train our model faster by creating batches. Here we are using batch of 64, so the model will take 64 images at a time and train on them."
   ]
  },
  {
   "cell_type": "code",
   "execution_count": 47,
   "id": "4ba1a694",
   "metadata": {},
   "outputs": [],
   "source": [
    "train_generator = gen.flow(x_train, y_train, batch_size=64)"
   ]
  },
  {
   "cell_type": "markdown",
   "id": "782a0609",
   "metadata": {},
   "source": [
    "### Training of the Model"
   ]
  },
  {
   "cell_type": "code",
   "execution_count": 48,
   "id": "f8fb0d35",
   "metadata": {},
   "outputs": [
    {
     "name": "stderr",
     "output_type": "stream",
     "text": [
      "C:\\Users\\KIT\\AppData\\Local\\Temp\\ipykernel_14540\\4013605225.py:3: UserWarning: `Model.fit_generator` is deprecated and will be removed in a future version. Please use `Model.fit`, which supports generators.\n",
      "  history = model.fit_generator(train_generator, steps_per_epoch=x_train.shape[0] // batch_size, epochs = epochs, verbose=1,\n"
     ]
    },
    {
     "name": "stdout",
     "output_type": "stream",
     "text": [
      "Epoch 1/10\n",
      "843/843 [==============================] - 194s 226ms/step - loss: 0.4184 - accuracy: 0.8629 - val_loss: 0.2540 - val_accuracy: 0.9150\n",
      "Epoch 2/10\n",
      "843/843 [==============================] - 188s 223ms/step - loss: 0.1760 - accuracy: 0.9439 - val_loss: 0.1609 - val_accuracy: 0.9462\n",
      "Epoch 3/10\n",
      "843/843 [==============================] - 188s 223ms/step - loss: 0.1359 - accuracy: 0.9558 - val_loss: 0.1415 - val_accuracy: 0.9557\n",
      "Epoch 4/10\n",
      "843/843 [==============================] - 190s 225ms/step - loss: 0.1160 - accuracy: 0.9627 - val_loss: 0.1038 - val_accuracy: 0.9657\n",
      "Epoch 5/10\n",
      "843/843 [==============================] - 190s 225ms/step - loss: 0.1019 - accuracy: 0.9672 - val_loss: 0.0963 - val_accuracy: 0.9705\n",
      "Epoch 6/10\n",
      "843/843 [==============================] - 190s 226ms/step - loss: 0.0934 - accuracy: 0.9702 - val_loss: 0.1025 - val_accuracy: 0.9673\n",
      "Epoch 7/10\n",
      "843/843 [==============================] - 196s 233ms/step - loss: 0.0842 - accuracy: 0.9731 - val_loss: 0.0982 - val_accuracy: 0.9683\n",
      "Epoch 8/10\n",
      "843/843 [==============================] - 193s 229ms/step - loss: 0.0722 - accuracy: 0.9762 - val_loss: 0.0698 - val_accuracy: 0.9788\n",
      "Epoch 9/10\n",
      "843/843 [==============================] - 189s 224ms/step - loss: 0.0711 - accuracy: 0.9767 - val_loss: 0.0654 - val_accuracy: 0.9823\n",
      "Epoch 10/10\n",
      "843/843 [==============================] - 188s 223ms/step - loss: 0.0630 - accuracy: 0.9793 - val_loss: 0.1830 - val_accuracy: 0.9480\n"
     ]
    }
   ],
   "source": [
    "batch_size = 64\n",
    "epochs = 10\n",
    "history = model.fit_generator(train_generator, steps_per_epoch=x_train.shape[0] // batch_size, epochs = epochs, verbose=1, \n",
    "                    validation_data = (x_val,y_val), validation_steps=x_val.shape[0] // batch_size)"
   ]
  },
  {
   "cell_type": "markdown",
   "id": "4c889ab0",
   "metadata": {},
   "source": [
    "#### We achived 94.80% accuracy using this simple model. To improve the result, we can do ensembling of models."
   ]
  },
  {
   "cell_type": "markdown",
   "id": "2f0aff72",
   "metadata": {},
   "source": [
    "### Training and Validation Curves"
   ]
  },
  {
   "cell_type": "code",
   "execution_count": 49,
   "id": "c58d717a",
   "metadata": {},
   "outputs": [
    {
     "data": {
      "image/png": "[encoded data removed]",
      "text/plain": [
       "<Figure size 640x480 with 2 Axes>"
      ]
     },
     "metadata": {},
     "output_type": "display_data"
    }
   ],
   "source": [
    "fig, ax = plt.subplots(2,1)\n",
    "ax[0].plot(history.history['loss'], color='b', label=\"Training loss\")\n",
    "ax[0].plot(history.history['val_loss'], color='r', label=\"validation loss\",axes =ax[0])\n",
    "legend = ax[0].legend(loc='best', shadow=True)\n",
    "\n",
    "ax[1].plot(history.history['accuracy'], color='b', label=\"Training accuracy\")\n",
    "ax[1].plot(history.history['val_accuracy'], color='r',label=\"Validation accuracy\")\n",
    "legend = ax[1].legend(loc='best', shadow=True)"
   ]
  },
  {
   "cell_type": "code",
   "execution_count": 52,
   "id": "c926312f",
   "metadata": {},
   "outputs": [
    {
     "name": "stdout",
     "output_type": "stream",
     "text": [
      "188/188 [==============================] - 5s 27ms/step - loss: 0.1830 - accuracy: 0.9480\n",
      "Val accuracy: 0.9480000138282776\n"
     ]
    }
   ],
   "source": [
    "score = model.evaluate(x_val, y_val)\n",
    "print('Val accuracy:', score[1])"
   ]
  },
  {
   "cell_type": "markdown",
   "id": "962b3d2c",
   "metadata": {},
   "source": [
    "#### Model Prediction"
   ]
  },
  {
   "cell_type": "code",
   "execution_count": 53,
   "id": "3a7d8f5b",
   "metadata": {},
   "outputs": [],
   "source": [
    "Y_pred = model.predict(x_val)"
   ]
  },
  {
   "cell_type": "code",
   "execution_count": 54,
   "id": "e66fb4d9",
   "metadata": {},
   "outputs": [],
   "source": [
    "Y_pred = np.argmax(Y_pred, axis = 1)"
   ]
  },
  {
   "cell_type": "code",
   "execution_count": 55,
   "id": "3b2779ea",
   "metadata": {},
   "outputs": [
    {
     "data": {
      "text/plain": [
       "array([1, 3, 8, ..., 7, 2, 5], dtype=int64)"
      ]
     },
     "execution_count": 55,
     "metadata": {},
     "output_type": "execute_result"
    }
   ],
   "source": [
    "Y_pred"
   ]
  },
  {
   "cell_type": "code",
   "execution_count": 56,
   "id": "a6f2ae30",
   "metadata": {},
   "outputs": [],
   "source": [
    "y_val = np.argmax(y_val, axis =1)"
   ]
  },
  {
   "cell_type": "code",
   "execution_count": 57,
   "id": "4e136dc3",
   "metadata": {},
   "outputs": [
    {
     "data": {
      "text/plain": [
       "array([7, 3, 8, ..., 7, 2, 5], dtype=int64)"
      ]
     },
     "execution_count": 57,
     "metadata": {},
     "output_type": "execute_result"
    }
   ],
   "source": [
    "y_val"
   ]
  },
  {
   "cell_type": "markdown",
   "id": "9cb4531d",
   "metadata": {},
   "source": [
    "### Confusion Matrix for model performance"
   ]
  },
  {
   "cell_type": "code",
   "execution_count": 58,
   "id": "8d6e3308",
   "metadata": {},
   "outputs": [
    {
     "data": {
      "text/plain": [
       "array([[597,  18,   0,   1,   1,   0,   3,   0,   0,   4],\n",
       "       [  0, 651,   3,   0,   0,   0,   0,   0,   0,   0],\n",
       "       [  1,  20, 546,   0,   0,   0,   0,   0,   2,   3],\n",
       "       [  0,  25,   6, 553,   0,   2,   2,   1,   0,   0],\n",
       "       [  0,  29,   0,   0, 545,   0,   0,   1,   0,   5],\n",
       "       [  1,  14,   0,   4,   0, 517,  10,   0,   4,   1],\n",
       "       [  0,  16,   0,   0,   1,   0, 563,   0,   0,   0],\n",
       "       [  0,  43,   8,   0,   0,   0,   0, 580,   1,   1],\n",
       "       [  2,  29,   1,   0,   1,   3,   0,   0, 547,   2],\n",
       "       [  1,  21,   0,   2,  10,   2,   0,   5,   2, 589]], dtype=int64)"
      ]
     },
     "execution_count": 58,
     "metadata": {},
     "output_type": "execute_result"
    }
   ],
   "source": [
    "confusion_matrix(y_val,Y_pred)"
   ]
  },
  {
   "cell_type": "markdown",
   "id": "f42f942a",
   "metadata": {},
   "source": [
    "## Yes it did quite well"
   ]
  },
  {
   "cell_type": "markdown",
   "id": "695aa848",
   "metadata": {},
   "source": [
    "## Save the Model"
   ]
  },
  {
   "cell_type": "code",
   "execution_count": 77,
   "id": "80ed9540",
   "metadata": {},
   "outputs": [],
   "source": [
    "model.save('cnnModel.h5')"
   ]
  }
 ],
 "metadata": {
  "kernelspec": {
   "display_name": "Python 3 (ipykernel)",
   "language": "python",
   "name": "python3"
  },
  "language_info": {
   "codemirror_mode": {
    "name": "ipython",
    "version": 3
   },
   "file_extension": ".py",
   "mimetype": "text/x-python",
   "name": "python",
   "nbconvert_exporter": "python",
   "pygments_lexer": "ipython3",
   "version": "3.8.8"
  }
 },
 "nbformat": 4,
 "nbformat_minor": 5
}
